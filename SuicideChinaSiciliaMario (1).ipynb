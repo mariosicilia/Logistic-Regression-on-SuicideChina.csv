{
 "cells": [
  {
   "cell_type": "markdown",
   "metadata": {},
   "source": [
    "# \"Suicide China\""
   ]
  },
  {
   "cell_type": "markdown",
   "metadata": {},
   "source": [
    "#### Corso di Modelli per Dati Categoriali\n",
    "Anno Accademico 2019/2020\n"
   ]
  },
  {
   "cell_type": "markdown",
   "metadata": {},
   "source": [
    "### Studente: Mario Sicilia"
   ]
  },
  {
   "cell_type": "markdown",
   "metadata": {},
   "source": [
    "\n",
    "\n",
    "\n",
    "\n",
    "\n",
    "\n",
    "\n",
    "\n",
    "\n",
    "\n"
   ]
  },
  {
   "cell_type": "markdown",
   "metadata": {},
   "source": [
    " "
   ]
  },
  {
   "cell_type": "markdown",
   "metadata": {},
   "source": [
    " "
   ]
  },
  {
   "cell_type": "markdown",
   "metadata": {},
   "source": [
    "Nella ricerca di dati per la stesura di questo progetto mi sono imbattuto nel dataset \"SuicideChina.csv\", pubblicato da BMJ Open, nel 2015. L’obiettivo degli studiosi Sun J. , Guo X. e Zhang J. , è stato quello di catalogare gravi tentativi di suicidio in alcune contee di Shandong in Cina, con conseguente stato di ricovero o morte del paziente.\n",
    "\n"
   ]
  },
  {
   "cell_type": "code",
   "execution_count": 1,
   "metadata": {},
   "outputs": [
    {
     "name": "stdout",
     "output_type": "stream",
     "text": [
      "'data.frame':\t2571 obs. of  12 variables:\n",
      " $ X           : int  1 2 3 4 5 6 7 8 9 10 ...\n",
      " $ Person_ID   : int  1 2 3 4 5 6 7 8 9 10 ...\n",
      " $ Hospitalised: Factor w/ 2 levels \"no\",\"yes\": 2 1 1 1 2 1 1 2 1 2 ...\n",
      " $ Died        : Factor w/ 2 levels \"no\",\"yes\": 1 2 2 2 1 2 2 1 2 1 ...\n",
      " $ Urban       : Factor w/ 3 levels \"no\",\"unknown\",..: 1 1 1 1 1 1 1 1 1 1 ...\n",
      " $ Year        : int  2010 2009 2010 2011 2009 2009 2010 2010 2010 2011 ...\n",
      " $ Month       : int  12 3 2 1 8 11 1 10 7 1 ...\n",
      " $ Sex         : Factor w/ 2 levels \"female\",\"male\": 1 2 2 2 2 2 1 2 2 1 ...\n",
      " $ Age         : int  39 83 60 73 51 62 90 54 66 30 ...\n",
      " $ Education   : Factor w/ 5 levels \"iliterate\",\"primary\",..: 3 2 2 2 3 1 1 3 2 3 ...\n",
      " $ Occupation  : Factor w/ 10 levels \"business/service\",..: 3 2 2 2 2 2 2 2 2 5 ...\n",
      " $ method      : Factor w/ 9 levels \"Cutting\",\"Drowning\",..: 5 3 3 3 7 7 7 7 3 8 ...\n"
     ]
    }
   ],
   "source": [
    "dati<-read.csv(\"SuicideChina.csv\")\n",
    "str(dati)  #struttura dei dati\n"
   ]
  },
  {
   "cell_type": "markdown",
   "metadata": {},
   "source": [
    " "
   ]
  },
  {
   "cell_type": "markdown",
   "metadata": {},
   "source": [
    "\n",
    "\n",
    "All'interno del set di dati, sono catalogati 2571 casi di tentato suicidio e per ognuno dei casi sono state rilevate 12 variabili:\n",
    "\n",
    "\n",
    "•\t\"X\" = Variabile di tipo numerico che conta il numero di osservazioni registrate (da 1 a 2571). \n",
    "\n",
    "•\t\"Person_ID\" = Variabile di tipo numerico che identifica il paziente.\n",
    "\n",
    "•\t\"Hospitalised\" = Variabile binaria che spiega se si è stati ricoverati o meno. (yes, no)\n",
    "\n",
    "•\t\"Died\" = Variabile binaria utilizzata come variabile di risposta nel nostro studio ed indica lo stato, di morte o meno, del paziente. (Yes, No)\n",
    "\n",
    "•\t\"Urban\" = Variabile politoma che indica se il paziente proviene da un’area urbana o da una zona rurale.\n",
    "\n",
    "•\t\"Year\"= Variabile di tipo numerico che indica l’anno in cui il paziente ha tentato il suicidio.\n",
    "\n",
    "•\t\"Month\"= Variabile di tipo numerico, che indica il mese in cui il paziente ha tentato il suicidio (da 1 a 12)\n",
    "\n",
    "•\t\"Sex\"= Variabile binaria che indica il sesso dei 2571 pazienti. (male, female)\n",
    "\n",
    "•\t\"Age\" = Variabile quantitativa che indica l’età dei pazienti.\n",
    "\n",
    "•\t\"Education\" = Variabile politoma che indica il livello di istruzione dei pazienti. ( Iliterate, Primary, Secondary, Unknown) \n",
    "\n",
    "•\t\"Occupation\" = Variabile politoma che ci indica il tipo di occupazione del paziente. (\"Others\",       \"business/service\",\"farming\",\"household\",\"others/unknown\",\"professional\",\"retiree\",\"student\", \"unemployed\")\n",
    "\n",
    "•\t“method\" =   Variabile politoma che indica il metodo con cui il paziente ha tentato il suicidio.( \"Others\",       \"Cutting\", \"Drowning\", \"Hanging\", \"Jumping\", \"Other poison\", \"Pesticide\", \"Poison unspec\", \"unspecified\")\n",
    "\n",
    "\n",
    "\n",
    "** con “paziente” si indicano i soggetti che hanno tentato il suicidio.\n",
    "\n"
   ]
  },
  {
   "cell_type": "markdown",
   "metadata": {},
   "source": [
    "###### Analizzando la mera forma dei dati mi sono posto come obiettivo di studio quello di costruire un modello che stimi le eventuali relazioni tra la variabile di risposta scelta: “Died”, e le altre variabili di carattere sociale, culturale e geografico presenti nel dataset."
   ]
  },
  {
   "cell_type": "markdown",
   "metadata": {},
   "source": [
    "Mostriamo le prime 6 osservazioni presenti nel set di dati:"
   ]
  },
  {
   "cell_type": "code",
   "execution_count": 2,
   "metadata": {},
   "outputs": [
    {
     "data": {
      "text/html": [
       "<table>\n",
       "<caption>A data.frame: 6 × 12</caption>\n",
       "<thead>\n",
       "\t<tr><th></th><th scope=col>X</th><th scope=col>Person_ID</th><th scope=col>Hospitalised</th><th scope=col>Died</th><th scope=col>Urban</th><th scope=col>Year</th><th scope=col>Month</th><th scope=col>Sex</th><th scope=col>Age</th><th scope=col>Education</th><th scope=col>Occupation</th><th scope=col>method</th></tr>\n",
       "\t<tr><th></th><th scope=col>&lt;int&gt;</th><th scope=col>&lt;int&gt;</th><th scope=col>&lt;fct&gt;</th><th scope=col>&lt;fct&gt;</th><th scope=col>&lt;fct&gt;</th><th scope=col>&lt;int&gt;</th><th scope=col>&lt;int&gt;</th><th scope=col>&lt;fct&gt;</th><th scope=col>&lt;int&gt;</th><th scope=col>&lt;fct&gt;</th><th scope=col>&lt;fct&gt;</th><th scope=col>&lt;fct&gt;</th></tr>\n",
       "</thead>\n",
       "<tbody>\n",
       "\t<tr><th scope=row>1</th><td>1</td><td>1</td><td>yes</td><td>no </td><td>no</td><td>2010</td><td>12</td><td>female</td><td>39</td><td>Secondary</td><td>household</td><td>Other poison</td></tr>\n",
       "\t<tr><th scope=row>2</th><td>2</td><td>2</td><td>no </td><td>yes</td><td>no</td><td>2009</td><td> 3</td><td>male  </td><td>83</td><td>primary  </td><td>farming  </td><td>Hanging     </td></tr>\n",
       "\t<tr><th scope=row>3</th><td>3</td><td>3</td><td>no </td><td>yes</td><td>no</td><td>2010</td><td> 2</td><td>male  </td><td>60</td><td>primary  </td><td>farming  </td><td>Hanging     </td></tr>\n",
       "\t<tr><th scope=row>4</th><td>4</td><td>4</td><td>no </td><td>yes</td><td>no</td><td>2011</td><td> 1</td><td>male  </td><td>73</td><td>primary  </td><td>farming  </td><td>Hanging     </td></tr>\n",
       "\t<tr><th scope=row>5</th><td>5</td><td>5</td><td>yes</td><td>no </td><td>no</td><td>2009</td><td> 8</td><td>male  </td><td>51</td><td>Secondary</td><td>farming  </td><td>Pesticide   </td></tr>\n",
       "\t<tr><th scope=row>6</th><td>6</td><td>6</td><td>no </td><td>yes</td><td>no</td><td>2009</td><td>11</td><td>male  </td><td>62</td><td>iliterate</td><td>farming  </td><td>Pesticide   </td></tr>\n",
       "</tbody>\n",
       "</table>\n"
      ],
      "text/latex": [
       "A data.frame: 6 × 12\n",
       "\\begin{tabular}{r|llllllllllll}\n",
       "  & X & Person\\_ID & Hospitalised & Died & Urban & Year & Month & Sex & Age & Education & Occupation & method\\\\\n",
       "  & <int> & <int> & <fct> & <fct> & <fct> & <int> & <int> & <fct> & <int> & <fct> & <fct> & <fct>\\\\\n",
       "\\hline\n",
       "\t1 & 1 & 1 & yes & no  & no & 2010 & 12 & female & 39 & Secondary & household & Other poison\\\\\n",
       "\t2 & 2 & 2 & no  & yes & no & 2009 &  3 & male   & 83 & primary   & farming   & Hanging     \\\\\n",
       "\t3 & 3 & 3 & no  & yes & no & 2010 &  2 & male   & 60 & primary   & farming   & Hanging     \\\\\n",
       "\t4 & 4 & 4 & no  & yes & no & 2011 &  1 & male   & 73 & primary   & farming   & Hanging     \\\\\n",
       "\t5 & 5 & 5 & yes & no  & no & 2009 &  8 & male   & 51 & Secondary & farming   & Pesticide   \\\\\n",
       "\t6 & 6 & 6 & no  & yes & no & 2009 & 11 & male   & 62 & iliterate & farming   & Pesticide   \\\\\n",
       "\\end{tabular}\n"
      ],
      "text/markdown": [
       "\n",
       "A data.frame: 6 × 12\n",
       "\n",
       "| <!--/--> | X &lt;int&gt; | Person_ID &lt;int&gt; | Hospitalised &lt;fct&gt; | Died &lt;fct&gt; | Urban &lt;fct&gt; | Year &lt;int&gt; | Month &lt;int&gt; | Sex &lt;fct&gt; | Age &lt;int&gt; | Education &lt;fct&gt; | Occupation &lt;fct&gt; | method &lt;fct&gt; |\n",
       "|---|---|---|---|---|---|---|---|---|---|---|---|---|\n",
       "| 1 | 1 | 1 | yes | no  | no | 2010 | 12 | female | 39 | Secondary | household | Other poison |\n",
       "| 2 | 2 | 2 | no  | yes | no | 2009 |  3 | male   | 83 | primary   | farming   | Hanging      |\n",
       "| 3 | 3 | 3 | no  | yes | no | 2010 |  2 | male   | 60 | primary   | farming   | Hanging      |\n",
       "| 4 | 4 | 4 | no  | yes | no | 2011 |  1 | male   | 73 | primary   | farming   | Hanging      |\n",
       "| 5 | 5 | 5 | yes | no  | no | 2009 |  8 | male   | 51 | Secondary | farming   | Pesticide    |\n",
       "| 6 | 6 | 6 | no  | yes | no | 2009 | 11 | male   | 62 | iliterate | farming   | Pesticide    |\n",
       "\n"
      ],
      "text/plain": [
       "  X Person_ID Hospitalised Died Urban Year Month Sex    Age Education\n",
       "1 1 1         yes          no   no    2010 12    female 39  Secondary\n",
       "2 2 2         no           yes  no    2009  3    male   83  primary  \n",
       "3 3 3         no           yes  no    2010  2    male   60  primary  \n",
       "4 4 4         no           yes  no    2011  1    male   73  primary  \n",
       "5 5 5         yes          no   no    2009  8    male   51  Secondary\n",
       "6 6 6         no           yes  no    2009 11    male   62  iliterate\n",
       "  Occupation method      \n",
       "1 household  Other poison\n",
       "2 farming    Hanging     \n",
       "3 farming    Hanging     \n",
       "4 farming    Hanging     \n",
       "5 farming    Pesticide   \n",
       "6 farming    Pesticide   "
      ]
     },
     "metadata": {},
     "output_type": "display_data"
    }
   ],
   "source": [
    "head(dati)"
   ]
  },
  {
   "cell_type": "markdown",
   "metadata": {},
   "source": [
    "Facendo un summary dei dati, notiamo che questo studio sui gravi tentativi di suicidio riguarda una popolazione prevalentemente rurale e ricopre un arco temporale di tre anni."
   ]
  },
  {
   "cell_type": "code",
   "execution_count": 3,
   "metadata": {},
   "outputs": [
    {
     "data": {
      "text/plain": [
       "       X            Person_ID      Hospitalised  Died          Urban     \n",
       " Min.   :   1.0   Min.   :   1.0   no :1018     no :1315   no     :2213  \n",
       " 1st Qu.: 643.5   1st Qu.: 643.5   yes:1553     yes:1256   unknown:  81  \n",
       " Median :1286.0   Median :1286.0                           yes    : 277  \n",
       " Mean   :1286.0   Mean   :1286.0                                         \n",
       " 3rd Qu.:1928.5   3rd Qu.:1928.5                                         \n",
       " Max.   :2571.0   Max.   :2571.0                                         \n",
       "                                                                         \n",
       "      Year          Month            Sex            Age        \n",
       " Min.   :2009   Min.   : 1.000   female:1328   Min.   : 12.00  \n",
       " 1st Qu.:2009   1st Qu.: 4.000   male  :1243   1st Qu.: 37.00  \n",
       " Median :2010   Median : 6.000                 Median : 53.00  \n",
       " Mean   :2010   Mean   : 6.298                 Mean   : 52.63  \n",
       " 3rd Qu.:2011   3rd Qu.: 9.000                 3rd Qu.: 69.00  \n",
       " Max.   :2011   Max.   :12.000                 Max.   :100.00  \n",
       "                                                               \n",
       "     Education             Occupation             method    \n",
       " iliterate: 533   farming       :2032   Pesticide    :1768  \n",
       " primary  : 659   household     : 248   Hanging      : 431  \n",
       " Secondary:1280   others/unknown: 156   Other poison : 146  \n",
       " Tertiary :  19   professional  :  37   Poison unspec: 107  \n",
       " unknown  :  80   student       :  35   unspecified  :  48  \n",
       "                  unemployed    :  30   Cutting      :  29  \n",
       "                  (Other)       :  33   (Other)      :  42  "
      ]
     },
     "metadata": {},
     "output_type": "display_data"
    }
   ],
   "source": [
    "summary(dati)"
   ]
  },
  {
   "cell_type": "markdown",
   "metadata": {},
   "source": [
    "La fase di pre-analisi dei dati mi ha portato, data la natura dello studio, a non utilizzare alcune variabili per la costruzione del modello atto a spiegare la variabile risposta scelta, quali: la variabile “X”, la variabile “ Person ID” e le variabili “Year” e “Month”. Queste ultime sono state trascurate poiché considerate inutili al fine di stimare la probabilità che si verifichi l’evento fatale.\n",
    "\n",
    "\n",
    "\n",
    "Per comodità cambiamo i livelli di alcune variabili e assegniamo agli eventuali missing values presenti alcuni valori; in particolare sostituendo la moda alle variabili qualitative e la media alle variabili quantitative.\n"
   ]
  },
  {
   "cell_type": "code",
   "execution_count": 4,
   "metadata": {},
   "outputs": [],
   "source": [
    "#attribuzione livelli \n",
    "Morto<-factor(dati$Died, levels=c(\"no\",\"yes\"), labels=c(\"no\",\"yes\"))\n",
    "Educazione<-factor(dati$Education, levels=c(\"iliterate\",\"primary\",\"Secondary\",\"unknown\"),\n",
    "                   labels=c(\"iliterate\",\"primary\",\"Secondary\",\"unknown\"))\n",
    "Metodo<-factor(dati$method, levels=c(\"Others\",\"Cutting\",\"Drowning\",\"Hanging\",\"Jumping\",\"Other poison\",\"Pesticide\",\"Poison unspec\",\"unspecified\"),\n",
    "               labels=c(\"Others\",\"Cutting\",\"Drowning\",\"Hanging\",\"Jumping\",\"Other poison\",\"Pesticide\",\"Poison unspec\",\"unspecified\"))\n",
    "Ricoverato<-factor(dati$Hospitalised, levels=c(\"no\",\"yes\"),\n",
    "                   labels=c(\"no\",\"yes\"))\n",
    "Area_Urbana<-factor(dati$Urban, levels=c(\"no\",\"yes\"),\n",
    "                    labels=c(\"no\",\"yes\"))\n",
    "Sesso<-factor(dati$Sex, levels=c(\"male\",\"female\"),\n",
    "              labels=c(\"male\",\"female\"))\n",
    "Occupazione<-factor(dati$Occupation, levels=c(\"others\" ,\"business/service\",\"farming\",\"household\",\"others/unknown\",\"professional\",\"retiree\",\"student\",\"unemployed\"),\n",
    "                    labels=c(\"others\" ,\"business/service\",\"farming\",\"household\",\"others/unknown\",\"professional\",\"retiree\",\"student\",\"unemployed\"))\n",
    "Età<-dati$Age"
   ]
  },
  {
   "cell_type": "code",
   "execution_count": 5,
   "metadata": {},
   "outputs": [],
   "source": [
    "#attribuzione NA \n",
    "getmode <- function(v) {\n",
    "uniqv <- unique(v)\n",
    "uniqv[which.max(tabulate(match(v, uniqv)))]\n",
    "}\n",
    "\n",
    "Educazione[is.na(Educazione)]<-getmode(Educazione)\n",
    "Metodo[is.na(Metodo)]<-getmode(Metodo)\n",
    "Morto[is.na(Morto)]<-getmode(Morto)\n",
    "Ricoverato[is.na(Ricoverato)]<-getmode(Ricoverato)\n",
    "Area_Urbana[is.na(Area_Urbana)]<-getmode(Area_Urbana)\n",
    "Sesso[is.na(Sesso)]<-getmode(Sesso)\n",
    "Età[is.na(Età)]<-mean(Età)\n",
    "Occupazione[is.na(Occupazione)]<-getmode(Occupazione)"
   ]
  },
  {
   "cell_type": "markdown",
   "metadata": {},
   "source": [
    "\n",
    "\n",
    "Incominciamo lo studio sulle variabili presenti nel dataset partendo dalla variabile risposta scelta: “Morto”.\n",
    "\n",
    "1256 sono i casi di “successo” del suicidio sui 2571 casi studiati mentre nei restanti 1315 casi il paziente ha “fallito” il suicidio, trovandosi ancora in vita.\n"
   ]
  },
  {
   "cell_type": "code",
   "execution_count": 6,
   "metadata": {},
   "outputs": [
    {
     "data": {
      "text/plain": [
       "Morto\n",
       "  no  yes \n",
       "1315 1256 "
      ]
     },
     "metadata": {},
     "output_type": "display_data"
    },
    {
     "data": {
      "image/png": "[encoded data removed]",
      "text/plain": [
       "Plot with title \"Morte\""
      ]
     },
     "metadata": {},
     "output_type": "display_data"
    },
    {
     "data": {
      "image/png": "[encoded data removed]",
      "text/plain": [
       "plot without title"
      ]
     },
     "metadata": {},
     "output_type": "display_data"
    }
   ],
   "source": [
    "table(Morto)\n",
    "cols<-c(\"darkblue\",\"orange\")\n",
    "pie(table(Morto), main=\"Morte\",col=cols)\n",
    "labs<-c(levels(Morto))\n",
    "plot(Morto)\n"
   ]
  },
  {
   "cell_type": "markdown",
   "metadata": {},
   "source": [
    "Facciamo ora una rapida analisi descrittiva delle altre variabili:"
   ]
  },
  {
   "cell_type": "markdown",
   "metadata": {},
   "source": [
    "#### -Età"
   ]
  },
  {
   "cell_type": "code",
   "execution_count": 7,
   "metadata": {},
   "outputs": [
    {
     "data": {
      "text/plain": [
       "   Min. 1st Qu.  Median    Mean 3rd Qu.    Max. \n",
       "  12.00   37.00   53.00   52.63   69.00  100.00 "
      ]
     },
     "metadata": {},
     "output_type": "display_data"
    },
    {
     "data": {
      "image/png": "[encoded data removed]",
      "text/plain": [
       "plot without title"
      ]
     },
     "metadata": {},
     "output_type": "display_data"
    },
    {
     "data": {
      "image/png": "[encoded data removed]",
      "text/plain": [
       "Plot with title \"Histogram of Età\""
      ]
     },
     "metadata": {},
     "output_type": "display_data"
    }
   ],
   "source": [
    "summary(Età)\n",
    "boxplot(Età, ylab=\"età\")\n",
    "hist(Età)"
   ]
  },
  {
   "cell_type": "code",
   "execution_count": 8,
   "metadata": {},
   "outputs": [
    {
     "data": {
      "text/html": [
       "88"
      ],
      "text/latex": [
       "88"
      ],
      "text/markdown": [
       "88"
      ],
      "text/plain": [
       "[1] 88"
      ]
     },
     "metadata": {},
     "output_type": "display_data"
    }
   ],
   "source": [
    "#campo di variazione\n",
    "max(Età) - min(Età) \n"
   ]
  },
  {
   "cell_type": "code",
   "execution_count": 9,
   "metadata": {},
   "outputs": [
    {
     "data": {
      "text/html": [
       "32"
      ],
      "text/latex": [
       "32"
      ],
      "text/markdown": [
       "32"
      ],
      "text/plain": [
       "[1] 32"
      ]
     },
     "metadata": {},
     "output_type": "display_data"
    }
   ],
   "source": [
    "#distanza interquartilica\n",
    "IQR(Età)"
   ]
  },
  {
   "cell_type": "code",
   "execution_count": 10,
   "metadata": {},
   "outputs": [
    {
     "data": {
      "text/html": [
       "391.401831866055"
      ],
      "text/latex": [
       "391.401831866055"
      ],
      "text/markdown": [
       "391.401831866055"
      ],
      "text/plain": [
       "[1] 391.4018"
      ]
     },
     "metadata": {},
     "output_type": "display_data"
    },
    {
     "data": {
      "text/html": [
       "19.7838780795388"
      ],
      "text/latex": [
       "19.7838780795388"
      ],
      "text/markdown": [
       "19.7838780795388"
      ],
      "text/plain": [
       "[1] 19.78388"
      ]
     },
     "metadata": {},
     "output_type": "display_data"
    }
   ],
   "source": [
    "#calcolo varianza e deviazione standard\n",
    "var(Età)\n",
    "sd(Età)"
   ]
  },
  {
   "cell_type": "code",
   "execution_count": 11,
   "metadata": {},
   "outputs": [
    {
     "data": {
      "text/html": [
       "40"
      ],
      "text/latex": [
       "40"
      ],
      "text/markdown": [
       "40"
      ],
      "text/plain": [
       "[1] 40"
      ]
     },
     "metadata": {},
     "output_type": "display_data"
    }
   ],
   "source": [
    "#moda\n",
    "getmode(Età)"
   ]
  },
  {
   "cell_type": "markdown",
   "metadata": {},
   "source": [
    "L’età varia dai 12 anni ai 100 anni e l’età media è 53 anni. Dal box plot e dall’istogramma notiamo che la distribuzione è prettamente simmetrica e che vi è molta dispersione nei dati infatti: la Varianza è di 391.40, lo Standard Error è di circa 19.79 e la differenza tra età minima ed età massima (campo di variazione) è di 88 anni. La Moda della distribuzione, ossia l’età in cui i tentativi di suicidio sono risultati più frequenti è 40 anni."
   ]
  },
  {
   "cell_type": "markdown",
   "metadata": {},
   "source": [
    "#### -Educazione"
   ]
  },
  {
   "cell_type": "code",
   "execution_count": 12,
   "metadata": {},
   "outputs": [
    {
     "data": {
      "text/plain": [
       "Educazione\n",
       "iliterate   primary Secondary   unknown \n",
       "      533       659      1299        80 "
      ]
     },
     "metadata": {},
     "output_type": "display_data"
    },
    {
     "data": {
      "image/png": "[encoded data removed]",
      "text/plain": [
       "Plot with title \"Educazione\""
      ]
     },
     "metadata": {},
     "output_type": "display_data"
    }
   ],
   "source": [
    "table(Educazione)\n",
    "cols<-c(\"darkblue\",\"lightyellow\",\"orange\",\"lightblue\")\n",
    "pie(table(Educazione), main=\"Educazione\", col=cols)\n"
   ]
  },
  {
   "cell_type": "code",
   "execution_count": 13,
   "metadata": {},
   "outputs": [
    {
     "data": {
      "image/png": "[encoded data removed]",
      "text/plain": [
       "plot without title"
      ]
     },
     "metadata": {},
     "output_type": "display_data"
    }
   ],
   "source": [
    "plot(Educazione)"
   ]
  },
  {
   "cell_type": "markdown",
   "metadata": {},
   "source": [
    "Ben il 51% di coloro che hanno tentato il suicidio ha un livello elevato di istruzione ( “Secondary”) ; potremmo ipotizzare che tali persone tentino il suicidio poiché insoddisfatte del tipo di vita che conducono nel Paese."
   ]
  },
  {
   "cell_type": "markdown",
   "metadata": {},
   "source": [
    "#### - Ricoverato"
   ]
  },
  {
   "cell_type": "markdown",
   "metadata": {},
   "source": [
    "I casi di ricovero sono stati 1553 su 2571 cioè il 60% dei casi studiati.\n"
   ]
  },
  {
   "cell_type": "code",
   "execution_count": 14,
   "metadata": {},
   "outputs": [
    {
     "data": {
      "text/plain": [
       "Ricoverato\n",
       "  no  yes \n",
       "1018 1553 "
      ]
     },
     "metadata": {},
     "output_type": "display_data"
    },
    {
     "data": {
      "image/png": "[encoded data removed]",
      "text/plain": [
       "Plot with title \"Ricovero\""
      ]
     },
     "metadata": {},
     "output_type": "display_data"
    },
    {
     "data": {
      "image/png": "[encoded data removed]",
      "text/plain": [
       "plot without title"
      ]
     },
     "metadata": {},
     "output_type": "display_data"
    }
   ],
   "source": [
    "table(Ricoverato)\n",
    "cols<-c(\"red\",\"lightblue\")\n",
    "pie(table(Ricoverato), main=\"Ricovero\", col=cols)\n",
    "plot(Ricoverato)"
   ]
  },
  {
   "cell_type": "markdown",
   "metadata": {},
   "source": [
    "#### -Metodo"
   ]
  },
  {
   "cell_type": "markdown",
   "metadata": {},
   "source": [
    "Mostrando la numerosità dei 9 gruppi, notiamo un tasso elevatissimo di tentato suicidio con pesticidi (69%)."
   ]
  },
  {
   "cell_type": "code",
   "execution_count": 15,
   "metadata": {},
   "outputs": [
    {
     "data": {
      "text/plain": [
       "Metodo\n",
       "       Others       Cutting      Drowning       Hanging       Jumping \n",
       "            1            29            26           431            15 \n",
       " Other poison     Pesticide Poison unspec   unspecified \n",
       "          146          1768           107            48 "
      ]
     },
     "metadata": {},
     "output_type": "display_data"
    },
    {
     "data": {
      "image/png": "[encoded data removed]",
      "text/plain": [
       "plot without title"
      ]
     },
     "metadata": {},
     "output_type": "display_data"
    }
   ],
   "source": [
    "table(Metodo)\n",
    "plot(Metodo)        "
   ]
  },
  {
   "cell_type": "markdown",
   "metadata": {},
   "source": [
    "#### -Area Urbana"
   ]
  },
  {
   "cell_type": "markdown",
   "metadata": {},
   "source": [
    "Come accennato precedentemente, si può notare che soltanto 277 dei tentativi sono stati registrati nelle Aree Urbane di Shandong mentre circa l’89 per cento dei pazienti ha tentato il suicidio in zone Rurali."
   ]
  },
  {
   "cell_type": "code",
   "execution_count": 16,
   "metadata": {},
   "outputs": [
    {
     "data": {
      "text/plain": [
       "Area_Urbana\n",
       "  no  yes \n",
       "2294  277 "
      ]
     },
     "metadata": {},
     "output_type": "display_data"
    },
    {
     "data": {
      "image/png": "[encoded data removed]",
      "text/plain": [
       "Plot with title \"Area_Urbana\""
      ]
     },
     "metadata": {},
     "output_type": "display_data"
    },
    {
     "data": {
      "image/png": "[encoded data removed]",
      "text/plain": [
       "plot without title"
      ]
     },
     "metadata": {},
     "output_type": "display_data"
    }
   ],
   "source": [
    "table(Area_Urbana)\n",
    "cols<-c(\"darkblue\",\"lightyellow\")\n",
    "pie(table(Area_Urbana), main=\"Area_Urbana\", col=cols)\n",
    "plot(Area_Urbana)"
   ]
  },
  {
   "cell_type": "markdown",
   "metadata": {},
   "source": [
    "#### -Occupazione"
   ]
  },
  {
   "cell_type": "markdown",
   "metadata": {},
   "source": [
    "Mostrando la numerosità dei 9 gruppi, notiamo che la maggior parte di coloro che hanno tentato il suicidio lavora\n",
    "nel settore agricolo. "
   ]
  },
  {
   "cell_type": "code",
   "execution_count": 17,
   "metadata": {},
   "outputs": [
    {
     "data": {
      "text/plain": [
       "Occupazione\n",
       "          others business/service          farming        household \n",
       "               3               21             2038              248 \n",
       "  others/unknown     professional          retiree          student \n",
       "             156               37                3               35 \n",
       "      unemployed \n",
       "              30 "
      ]
     },
     "metadata": {},
     "output_type": "display_data"
    },
    {
     "data": {
      "image/png": "[encoded data removed]",
      "text/plain": [
       "plot without title"
      ]
     },
     "metadata": {},
     "output_type": "display_data"
    }
   ],
   "source": [
    "table(Occupazione)\n",
    "plot(Occupazione)  "
   ]
  },
  {
   "cell_type": "markdown",
   "metadata": {},
   "source": [
    "#### -Sesso"
   ]
  },
  {
   "cell_type": "markdown",
   "metadata": {},
   "source": [
    "1328 dei 2571, ossia il 52% dei soggetti che hanno tentato il suicidio è di sesso femminile.         "
   ]
  },
  {
   "cell_type": "code",
   "execution_count": 18,
   "metadata": {},
   "outputs": [
    {
     "data": {
      "text/plain": [
       "Sesso\n",
       "  male female \n",
       "  1243   1328 "
      ]
     },
     "metadata": {},
     "output_type": "display_data"
    },
    {
     "data": {
      "image/png": "[encoded data removed]",
      "text/plain": [
       "Plot with title \"Sesso\""
      ]
     },
     "metadata": {},
     "output_type": "display_data"
    },
    {
     "data": {
      "image/png": "[encoded data removed]",
      "text/plain": [
       "plot without title"
      ]
     },
     "metadata": {},
     "output_type": "display_data"
    }
   ],
   "source": [
    "#sesso\n",
    "table(Sesso)\n",
    "cols<-c(\"red\",\"lightblue\")\n",
    "pie(table(Sesso), main=\"Sesso\", col=cols)\n",
    "plot(Sesso)"
   ]
  },
  {
   "cell_type": "markdown",
   "metadata": {},
   "source": [
    " "
   ]
  },
  {
   "cell_type": "markdown",
   "metadata": {},
   "source": [
    "Fatte le relative osservazioni sulle variabili, partiamo con la stesura del primo Modello, introducendo come regressori Età e Sesso. "
   ]
  },
  {
   "cell_type": "code",
   "execution_count": 19,
   "metadata": {},
   "outputs": [
    {
     "data": {
      "text/plain": [
       "\n",
       "Call:\n",
       "glm(formula = y ~ Età + Sesso, family = binomial(link = logit))\n",
       "\n",
       "Deviance Residuals: \n",
       "    Min       1Q   Median       3Q      Max  \n",
       "-2.0787  -0.9419  -0.5280   0.9554   2.1073  \n",
       "\n",
       "Coefficients:\n",
       "             Estimate Std. Error z value Pr(>|z|)    \n",
       "(Intercept) -2.587131   0.146768 -17.627  < 2e-16 ***\n",
       "Età          0.051390   0.002497  20.582  < 2e-16 ***\n",
       "Sessofemale -0.340494   0.088243  -3.859 0.000114 ***\n",
       "---\n",
       "Signif. codes:  0 '***' 0.001 '**' 0.01 '*' 0.05 '.' 0.1 ' ' 1\n",
       "\n",
       "(Dispersion parameter for binomial family taken to be 1)\n",
       "\n",
       "    Null deviance: 3562.8  on 2570  degrees of freedom\n",
       "Residual deviance: 3012.1  on 2568  degrees of freedom\n",
       "AIC: 3018.1\n",
       "\n",
       "Number of Fisher Scoring iterations: 4\n"
      ]
     },
     "metadata": {},
     "output_type": "display_data"
    }
   ],
   "source": [
    "y<-Morto\n",
    "\n",
    "#eta e sesso\n",
    "fit.y.e.s<-glm(y~Età+Sesso,family=binomial(link=logit))\n",
    "summary(fit.y.e.s)"
   ]
  },
  {
   "cell_type": "markdown",
   "metadata": {},
   "source": [
    "Dall’output notiamo che l’effetto delle variabili, sulla media della risposta (sulla trasformata logit) è statisticamente significativo.\n",
    "\n",
    "\n",
    "\n",
    "Inserendo nel Modello la variabile “Area Urbana” notiamo che provenire o meno da una zona Urbana non influisce significativamente sulla probabilità di morte.\n"
   ]
  },
  {
   "cell_type": "code",
   "execution_count": 20,
   "metadata": {},
   "outputs": [
    {
     "data": {
      "text/plain": [
       "\n",
       "Call:\n",
       "glm(formula = y ~ Età + Sesso + Area_Urbana, family = binomial(link = logit))\n",
       "\n",
       "Deviance Residuals: \n",
       "    Min       1Q   Median       3Q      Max  \n",
       "-2.0806  -0.9339  -0.5216   0.9521   2.1009  \n",
       "\n",
       "Coefficients:\n",
       "                Estimate Std. Error z value Pr(>|z|)    \n",
       "(Intercept)    -2.570382   0.148966 -17.255  < 2e-16 ***\n",
       "Età             0.051254   0.002505  20.463  < 2e-16 ***\n",
       "Sessofemale    -0.340087   0.088252  -3.854 0.000116 ***\n",
       "Area_Urbanayes -0.091752   0.143745  -0.638 0.523280    \n",
       "---\n",
       "Signif. codes:  0 '***' 0.001 '**' 0.01 '*' 0.05 '.' 0.1 ' ' 1\n",
       "\n",
       "(Dispersion parameter for binomial family taken to be 1)\n",
       "\n",
       "    Null deviance: 3562.8  on 2570  degrees of freedom\n",
       "Residual deviance: 3011.7  on 2567  degrees of freedom\n",
       "AIC: 3019.7\n",
       "\n",
       "Number of Fisher Scoring iterations: 4\n"
      ]
     },
     "metadata": {},
     "output_type": "display_data"
    }
   ],
   "source": [
    "#+area urbana\n",
    "fit.y.e.s.a<-glm(y~Età+Sesso+Area_Urbana,family=binomial(link=logit))\n",
    "summary(fit.y.e.s.a)\n"
   ]
  },
  {
   "cell_type": "markdown",
   "metadata": {},
   "source": [
    "Aggiungiamo al modello la variabile Ricoverato."
   ]
  },
  {
   "cell_type": "code",
   "execution_count": 21,
   "metadata": {},
   "outputs": [
    {
     "data": {
      "text/plain": [
       "\n",
       "Call:\n",
       "glm(formula = y ~ Età + Sesso + Ricoverato, family = binomial(link = logit))\n",
       "\n",
       "Deviance Residuals: \n",
       "     Min        1Q    Median        3Q       Max  \n",
       "-1.08572  -0.51409  -0.33888   0.00008   2.42874  \n",
       "\n",
       "Coefficients:\n",
       "                Estimate Std. Error z value Pr(>|z|)    \n",
       "(Intercept)    17.714004 327.534709   0.054   0.9569    \n",
       "Età             0.033519   0.003954   8.476   <2e-16 ***\n",
       "Sessofemale    -0.262652   0.144870  -1.813   0.0698 .  \n",
       "Ricoveratoyes -20.950289 327.534646  -0.064   0.9490    \n",
       "---\n",
       "Signif. codes:  0 '***' 0.001 '**' 0.01 '*' 0.05 '.' 0.1 ' ' 1\n",
       "\n",
       "(Dispersion parameter for binomial family taken to be 1)\n",
       "\n",
       "    Null deviance: 3562.8  on 2570  degrees of freedom\n",
       "Residual deviance: 1251.2  on 2567  degrees of freedom\n",
       "AIC: 1259.2\n",
       "\n",
       "Number of Fisher Scoring iterations: 18\n"
      ]
     },
     "metadata": {},
     "output_type": "display_data"
    }
   ],
   "source": [
    "#+ Ricoverato\n",
    "fit.y.e.s.r<-glm(y~Età+Sesso+Ricoverato,family=binomial(link=logit))\n",
    "summary(fit.y.e.s.r)"
   ]
  },
  {
   "cell_type": "markdown",
   "metadata": {},
   "source": [
    "Anche in questo caso, essere stato o meno in stato di ricovero dopo aver tentato il suicidio non influisce significativamente sulla stima della probabilità di morte nel nostro modello."
   ]
  },
  {
   "cell_type": "markdown",
   "metadata": {},
   "source": [
    "Aggiungiamo ora la variabile categoriale Metodo. "
   ]
  },
  {
   "cell_type": "code",
   "execution_count": 22,
   "metadata": {},
   "outputs": [
    {
     "data": {
      "text/plain": [
       "\n",
       "Call:\n",
       "glm(formula = y ~ Età + Sesso + Metodo, family = binomial(link = logit))\n",
       "\n",
       "Deviance Residuals: \n",
       "    Min       1Q   Median       3Q      Max  \n",
       "-3.0604  -0.7936  -0.1506   0.8248   3.0850  \n",
       "\n",
       "Coefficients:\n",
       "                      Estimate Std. Error z value Pr(>|z|)    \n",
       "(Intercept)         -1.751e+01  1.455e+03  -0.012   0.9904    \n",
       "Età                  4.743e-02  2.875e-03  16.498   <2e-16 ***\n",
       "Sessofemale         -1.978e-01  1.003e-01  -1.971   0.0487 *  \n",
       "MetodoCutting        1.449e+01  1.455e+03   0.010   0.9921    \n",
       "MetodoDrowning       3.069e+01  1.479e+03   0.021   0.9834    \n",
       "MetodoHanging        1.825e+01  1.455e+03   0.013   0.9900    \n",
       "MetodoJumping        1.707e+01  1.455e+03   0.012   0.9906    \n",
       "MetodoOther poison   1.267e+01  1.455e+03   0.009   0.9931    \n",
       "MetodoPesticide      1.495e+01  1.455e+03   0.010   0.9918    \n",
       "MetodoPoison unspec  1.148e+01  1.455e+03   0.008   0.9937    \n",
       "Metodounspecified    1.228e+01  1.455e+03   0.008   0.9933    \n",
       "---\n",
       "Signif. codes:  0 '***' 0.001 '**' 0.01 '*' 0.05 '.' 0.1 ' ' 1\n",
       "\n",
       "(Dispersion parameter for binomial family taken to be 1)\n",
       "\n",
       "    Null deviance: 3562.8  on 2570  degrees of freedom\n",
       "Residual deviance: 2395.2  on 2560  degrees of freedom\n",
       "AIC: 2417.2\n",
       "\n",
       "Number of Fisher Scoring iterations: 14\n"
      ]
     },
     "metadata": {},
     "output_type": "display_data"
    }
   ],
   "source": [
    "fit.y.e.s.m<-glm(y~Età+Sesso+Metodo,family=binomial(link=logit))\n",
    "summary(fit.y.e.s.m)"
   ]
  },
  {
   "cell_type": "markdown",
   "metadata": {},
   "source": [
    "Inizialmente gli effetti delle categorie della variabile sembrano non risultare statisticamente significative nella stima della probabilità di morte."
   ]
  },
  {
   "cell_type": "code",
   "execution_count": 23,
   "metadata": {},
   "outputs": [
    {
     "data": {
      "text/html": [
       "<table>\n",
       "<caption>A anova: 2 × 5</caption>\n",
       "<thead>\n",
       "\t<tr><th></th><th scope=col>Resid. Df</th><th scope=col>Resid. Dev</th><th scope=col>Df</th><th scope=col>Deviance</th><th scope=col>Pr(&gt;Chi)</th></tr>\n",
       "\t<tr><th></th><th scope=col>&lt;dbl&gt;</th><th scope=col>&lt;dbl&gt;</th><th scope=col>&lt;dbl&gt;</th><th scope=col>&lt;dbl&gt;</th><th scope=col>&lt;dbl&gt;</th></tr>\n",
       "</thead>\n",
       "<tbody>\n",
       "\t<tr><th scope=row>1</th><td>2568</td><td>3012.130</td><td>NA</td><td>      NA</td><td>           NA</td></tr>\n",
       "\t<tr><th scope=row>2</th><td>2560</td><td>2395.157</td><td> 8</td><td>616.9735</td><td>5.244454e-128</td></tr>\n",
       "</tbody>\n",
       "</table>\n"
      ],
      "text/latex": [
       "A anova: 2 × 5\n",
       "\\begin{tabular}{r|lllll}\n",
       "  & Resid. Df & Resid. Dev & Df & Deviance & Pr(>Chi)\\\\\n",
       "  & <dbl> & <dbl> & <dbl> & <dbl> & <dbl>\\\\\n",
       "\\hline\n",
       "\t1 & 2568 & 3012.130 & NA &       NA &            NA\\\\\n",
       "\t2 & 2560 & 2395.157 &  8 & 616.9735 & 5.244454e-128\\\\\n",
       "\\end{tabular}\n"
      ],
      "text/markdown": [
       "\n",
       "A anova: 2 × 5\n",
       "\n",
       "| <!--/--> | Resid. Df &lt;dbl&gt; | Resid. Dev &lt;dbl&gt; | Df &lt;dbl&gt; | Deviance &lt;dbl&gt; | Pr(&gt;Chi) &lt;dbl&gt; |\n",
       "|---|---|---|---|---|---|\n",
       "| 1 | 2568 | 3012.130 | NA |       NA |            NA |\n",
       "| 2 | 2560 | 2395.157 |  8 | 616.9735 | 5.244454e-128 |\n",
       "\n"
      ],
      "text/plain": [
       "  Resid. Df Resid. Dev Df Deviance Pr(>Chi)     \n",
       "1 2568      3012.130   NA       NA            NA\n",
       "2 2560      2395.157    8 616.9735 5.244454e-128"
      ]
     },
     "metadata": {},
     "output_type": "display_data"
    }
   ],
   "source": [
    "anova(fit.y.e.s, fit.y.e.s.m, test=\"Chisq\")  "
   ]
  },
  {
   "cell_type": "markdown",
   "metadata": {},
   "source": [
    "Tuttavia da un confronto con il precedente modello, utilizzando il test ChiQuadro Anova, per modelli nested, rifiutiamo l’ipotesi che il modello precedente sia migliore, per tanto non eliminiamo la variabile “Metodo” dal modello."
   ]
  },
  {
   "cell_type": "markdown",
   "metadata": {},
   "source": [
    "Al fine di migliorare la significatività delle singole categorie, ricodifichiamo i livelli della variabile aggregando alcune categorie come ad esempio “Other poison” e “Poison unspec” nella nuova categoria “Poison”. Notiamo inoltre che nella categoria “Others” è catalogato un solo caso, perciò decidiamo di aggregarla con la categoria “unspecified” sotto il nome di “Others”. "
   ]
  },
  {
   "cell_type": "code",
   "execution_count": 24,
   "metadata": {},
   "outputs": [
    {
     "data": {
      "text/html": [
       "<dl class=dl-horizontal>\n",
       "\t<dt>Others</dt>\n",
       "\t\t<dd>1</dd>\n",
       "\t<dt>Cutting</dt>\n",
       "\t\t<dd>29</dd>\n",
       "\t<dt>Drowning</dt>\n",
       "\t\t<dd>26</dd>\n",
       "\t<dt>Hanging</dt>\n",
       "\t\t<dd>431</dd>\n",
       "\t<dt>Jumping</dt>\n",
       "\t\t<dd>15</dd>\n",
       "\t<dt>Other poison</dt>\n",
       "\t\t<dd>146</dd>\n",
       "\t<dt>Pesticide</dt>\n",
       "\t\t<dd>1768</dd>\n",
       "\t<dt>Poison unspec</dt>\n",
       "\t\t<dd>107</dd>\n",
       "\t<dt>unspecified</dt>\n",
       "\t\t<dd>48</dd>\n",
       "</dl>\n"
      ],
      "text/latex": [
       "\\begin{description*}\n",
       "\\item[Others] 1\n",
       "\\item[Cutting] 29\n",
       "\\item[Drowning] 26\n",
       "\\item[Hanging] 431\n",
       "\\item[Jumping] 15\n",
       "\\item[Other poison] 146\n",
       "\\item[Pesticide] 1768\n",
       "\\item[Poison unspec] 107\n",
       "\\item[unspecified] 48\n",
       "\\end{description*}\n"
      ],
      "text/markdown": [
       "Others\n",
       ":   1Cutting\n",
       ":   29Drowning\n",
       ":   26Hanging\n",
       ":   431Jumping\n",
       ":   15Other poison\n",
       ":   146Pesticide\n",
       ":   1768Poison unspec\n",
       ":   107unspecified\n",
       ":   48\n",
       "\n"
      ],
      "text/plain": [
       "       Others       Cutting      Drowning       Hanging       Jumping \n",
       "            1            29            26           431            15 \n",
       " Other poison     Pesticide Poison unspec   unspecified \n",
       "          146          1768           107            48 "
      ]
     },
     "metadata": {},
     "output_type": "display_data"
    },
    {
     "data": {
      "text/html": [
       "<ol class=list-inline>\n",
       "\t<li>'Others'</li>\n",
       "\t<li>'Cutting'</li>\n",
       "\t<li>'Drowning'</li>\n",
       "\t<li>'Hanging'</li>\n",
       "\t<li>'Jumping'</li>\n",
       "\t<li>'Poison'</li>\n",
       "\t<li>'Pesticide'</li>\n",
       "\t<li>'unspecified'</li>\n",
       "</ol>\n"
      ],
      "text/latex": [
       "\\begin{enumerate*}\n",
       "\\item 'Others'\n",
       "\\item 'Cutting'\n",
       "\\item 'Drowning'\n",
       "\\item 'Hanging'\n",
       "\\item 'Jumping'\n",
       "\\item 'Poison'\n",
       "\\item 'Pesticide'\n",
       "\\item 'unspecified'\n",
       "\\end{enumerate*}\n"
      ],
      "text/markdown": [
       "1. 'Others'\n",
       "2. 'Cutting'\n",
       "3. 'Drowning'\n",
       "4. 'Hanging'\n",
       "5. 'Jumping'\n",
       "6. 'Poison'\n",
       "7. 'Pesticide'\n",
       "8. 'unspecified'\n",
       "\n",
       "\n"
      ],
      "text/plain": [
       "[1] \"Others\"      \"Cutting\"     \"Drowning\"    \"Hanging\"     \"Jumping\"    \n",
       "[6] \"Poison\"      \"Pesticide\"   \"unspecified\""
      ]
     },
     "metadata": {},
     "output_type": "display_data"
    },
    {
     "data": {
      "text/html": [
       "<dl class=dl-horizontal>\n",
       "\t<dt>Others</dt>\n",
       "\t\t<dd>1</dd>\n",
       "\t<dt>Cutting</dt>\n",
       "\t\t<dd>29</dd>\n",
       "\t<dt>Drowning</dt>\n",
       "\t\t<dd>26</dd>\n",
       "\t<dt>Hanging</dt>\n",
       "\t\t<dd>431</dd>\n",
       "\t<dt>Jumping</dt>\n",
       "\t\t<dd>15</dd>\n",
       "\t<dt>Poison</dt>\n",
       "\t\t<dd>253</dd>\n",
       "\t<dt>Pesticide</dt>\n",
       "\t\t<dd>1768</dd>\n",
       "\t<dt>unspecified</dt>\n",
       "\t\t<dd>48</dd>\n",
       "</dl>\n"
      ],
      "text/latex": [
       "\\begin{description*}\n",
       "\\item[Others] 1\n",
       "\\item[Cutting] 29\n",
       "\\item[Drowning] 26\n",
       "\\item[Hanging] 431\n",
       "\\item[Jumping] 15\n",
       "\\item[Poison] 253\n",
       "\\item[Pesticide] 1768\n",
       "\\item[unspecified] 48\n",
       "\\end{description*}\n"
      ],
      "text/markdown": [
       "Others\n",
       ":   1Cutting\n",
       ":   29Drowning\n",
       ":   26Hanging\n",
       ":   431Jumping\n",
       ":   15Poison\n",
       ":   253Pesticide\n",
       ":   1768unspecified\n",
       ":   48\n",
       "\n"
      ],
      "text/plain": [
       "     Others     Cutting    Drowning     Hanging     Jumping      Poison \n",
       "          1          29          26         431          15         253 \n",
       "  Pesticide unspecified \n",
       "       1768          48 "
      ]
     },
     "metadata": {},
     "output_type": "display_data"
    },
    {
     "data": {
      "text/html": [
       "<ol class=list-inline>\n",
       "\t<li>'Others'</li>\n",
       "\t<li>'Pesticide'</li>\n",
       "\t<li>'Cutting'</li>\n",
       "\t<li>'Drowning'</li>\n",
       "\t<li>'Hanging'</li>\n",
       "\t<li>'Jumping'</li>\n",
       "\t<li>'Poison'</li>\n",
       "</ol>\n"
      ],
      "text/latex": [
       "\\begin{enumerate*}\n",
       "\\item 'Others'\n",
       "\\item 'Pesticide'\n",
       "\\item 'Cutting'\n",
       "\\item 'Drowning'\n",
       "\\item 'Hanging'\n",
       "\\item 'Jumping'\n",
       "\\item 'Poison'\n",
       "\\end{enumerate*}\n"
      ],
      "text/markdown": [
       "1. 'Others'\n",
       "2. 'Pesticide'\n",
       "3. 'Cutting'\n",
       "4. 'Drowning'\n",
       "5. 'Hanging'\n",
       "6. 'Jumping'\n",
       "7. 'Poison'\n",
       "\n",
       "\n"
      ],
      "text/plain": [
       "[1] \"Others\"    \"Pesticide\" \"Cutting\"   \"Drowning\"  \"Hanging\"   \"Jumping\"  \n",
       "[7] \"Poison\"   "
      ]
     },
     "metadata": {},
     "output_type": "display_data"
    },
    {
     "data": {
      "text/html": [
       "<dl class=dl-horizontal>\n",
       "\t<dt>Others</dt>\n",
       "\t\t<dd>49</dd>\n",
       "\t<dt>Pesticide</dt>\n",
       "\t\t<dd>1768</dd>\n",
       "\t<dt>Cutting</dt>\n",
       "\t\t<dd>29</dd>\n",
       "\t<dt>Drowning</dt>\n",
       "\t\t<dd>26</dd>\n",
       "\t<dt>Hanging</dt>\n",
       "\t\t<dd>431</dd>\n",
       "\t<dt>Jumping</dt>\n",
       "\t\t<dd>15</dd>\n",
       "\t<dt>Poison</dt>\n",
       "\t\t<dd>253</dd>\n",
       "</dl>\n"
      ],
      "text/latex": [
       "\\begin{description*}\n",
       "\\item[Others] 49\n",
       "\\item[Pesticide] 1768\n",
       "\\item[Cutting] 29\n",
       "\\item[Drowning] 26\n",
       "\\item[Hanging] 431\n",
       "\\item[Jumping] 15\n",
       "\\item[Poison] 253\n",
       "\\end{description*}\n"
      ],
      "text/markdown": [
       "Others\n",
       ":   49Pesticide\n",
       ":   1768Cutting\n",
       ":   29Drowning\n",
       ":   26Hanging\n",
       ":   431Jumping\n",
       ":   15Poison\n",
       ":   253\n",
       "\n"
      ],
      "text/plain": [
       "   Others Pesticide   Cutting  Drowning   Hanging   Jumping    Poison \n",
       "       49      1768        29        26       431        15       253 "
      ]
     },
     "metadata": {},
     "output_type": "display_data"
    }
   ],
   "source": [
    "#ricodificazione categorie\n",
    "summary(Metodo)\n",
    "Metodo<-as.character(Metodo)\n",
    "Metodo[which(Metodo==\"Other poison\" | Metodo ==\"Poison unspec\")]<-\"Poison\"\n",
    "Metodo<-factor(Metodo, levels=c(\"Others\",\"Cutting\",\"Drowning\",\"Hanging\",\"Jumping\",\"Poison\",\"Pesticide\",\"unspecified\"),labels=c(\"Others\",\"Cutting\",\"Drowning\",\"Hanging\",\"Jumping\",\"Poison\",\"Pesticide\",\"unspecified\"))\n",
    "levels(Metodo)\n",
    "summary(Metodo)\n",
    "\n",
    "Metodo<-as.character(Metodo)\n",
    "Metodo[which(Metodo==\"unspecified\")] <-\"Others\"\n",
    "Metodo<-factor(Metodo, levels=c(\"Others\",\"Pesticide\",\"Cutting\",\"Drowning\",\"Hanging\",\"Jumping\",\"Poison\"),labels=c(\"Others\",\"Pesticide\",\"Cutting\",\"Drowning\",\"Hanging\",\"Jumping\",\"Poison\"))\n",
    "levels(Metodo)\n",
    "summary(Metodo)"
   ]
  },
  {
   "cell_type": "markdown",
   "metadata": {},
   "source": [
    "Fittando di nuovo il modello con la variabile categoriale Metodo ricodificata notiamo un miglioramento di quest’ultimo sul piano della significatività delle singole categorie."
   ]
  },
  {
   "cell_type": "code",
   "execution_count": 25,
   "metadata": {},
   "outputs": [
    {
     "data": {
      "text/plain": [
       "\n",
       "Call:\n",
       "glm(formula = y ~ Età + Sesso + Metodo, family = binomial(link = logit))\n",
       "\n",
       "Deviance Residuals: \n",
       "    Min       1Q   Median       3Q      Max  \n",
       "-3.0617  -0.7906  -0.1732   0.8241   2.9638  \n",
       "\n",
       "Coefficients:\n",
       "                  Estimate Std. Error z value Pr(>|z|)    \n",
       "(Intercept)      -5.255618   0.639167  -8.223  < 2e-16 ***\n",
       "Età               0.047634   0.002876  16.560  < 2e-16 ***\n",
       "Sessofemale      -0.193614   0.100273  -1.931  0.05350 .  \n",
       "MetodoPesticide   2.683905   0.616148   4.356 1.32e-05 ***\n",
       "MetodoCutting     2.226646   0.765122   2.910  0.00361 ** \n",
       "MetodoDrowning   18.420831 261.373783   0.070  0.94381    \n",
       "MetodoHanging     5.979751   0.681477   8.775  < 2e-16 ***\n",
       "MetodoJumping     4.806062   0.919259   5.228 1.71e-07 ***\n",
       "MetodoPoison      0.066110   0.663617   0.100  0.92065    \n",
       "---\n",
       "Signif. codes:  0 '***' 0.001 '**' 0.01 '*' 0.05 '.' 0.1 ' ' 1\n",
       "\n",
       "(Dispersion parameter for binomial family taken to be 1)\n",
       "\n",
       "    Null deviance: 3562.8  on 2570  degrees of freedom\n",
       "Residual deviance: 2399.2  on 2562  degrees of freedom\n",
       "AIC: 2417.2\n",
       "\n",
       "Number of Fisher Scoring iterations: 14\n"
      ]
     },
     "metadata": {},
     "output_type": "display_data"
    }
   ],
   "source": [
    "fit.y.e.s.m<-glm(y~Età+Sesso+Metodo,family=binomial(link=logit))\n",
    "summary(fit.y.e.s.m)"
   ]
  },
  {
   "cell_type": "markdown",
   "metadata": {},
   "source": [
    "Al fine di garantire la parsimonia e di rendere significativo l’effetto di tutte le singole categorie della variabile statisticamente significativo nella stima del modello, aggreghiamo la categoria “Poison” e la Categoria “Pesticide”, poiché entrambe sono causa di avvelenamento. (Poisoning”);  le categorie Drowining (Annegamento) e \"Hanging\" ( Impiccagione ) nella nuova categoria “Chocking” (Soffocamento),  in quanto entrambi i metodi sono causa di morte per vie respiratorie; e le categorie “ Cutting” e “Jumping” nella nuova categoria “Physical Injury”."
   ]
  },
  {
   "cell_type": "code",
   "execution_count": 26,
   "metadata": {},
   "outputs": [
    {
     "data": {
      "text/html": [
       "<ol class=list-inline>\n",
       "\t<li>'Others'</li>\n",
       "\t<li>'Poisoning'</li>\n",
       "\t<li>'Cutting'</li>\n",
       "\t<li>'Drowning'</li>\n",
       "\t<li>'Hanging'</li>\n",
       "\t<li>'Jumping'</li>\n",
       "</ol>\n"
      ],
      "text/latex": [
       "\\begin{enumerate*}\n",
       "\\item 'Others'\n",
       "\\item 'Poisoning'\n",
       "\\item 'Cutting'\n",
       "\\item 'Drowning'\n",
       "\\item 'Hanging'\n",
       "\\item 'Jumping'\n",
       "\\end{enumerate*}\n"
      ],
      "text/markdown": [
       "1. 'Others'\n",
       "2. 'Poisoning'\n",
       "3. 'Cutting'\n",
       "4. 'Drowning'\n",
       "5. 'Hanging'\n",
       "6. 'Jumping'\n",
       "\n",
       "\n"
      ],
      "text/plain": [
       "[1] \"Others\"    \"Poisoning\" \"Cutting\"   \"Drowning\"  \"Hanging\"   \"Jumping\"  "
      ]
     },
     "metadata": {},
     "output_type": "display_data"
    },
    {
     "data": {
      "text/html": [
       "<dl class=dl-horizontal>\n",
       "\t<dt>Others</dt>\n",
       "\t\t<dd>49</dd>\n",
       "\t<dt>Poisoning</dt>\n",
       "\t\t<dd>2021</dd>\n",
       "\t<dt>Cutting</dt>\n",
       "\t\t<dd>29</dd>\n",
       "\t<dt>Drowning</dt>\n",
       "\t\t<dd>26</dd>\n",
       "\t<dt>Hanging</dt>\n",
       "\t\t<dd>431</dd>\n",
       "\t<dt>Jumping</dt>\n",
       "\t\t<dd>15</dd>\n",
       "</dl>\n"
      ],
      "text/latex": [
       "\\begin{description*}\n",
       "\\item[Others] 49\n",
       "\\item[Poisoning] 2021\n",
       "\\item[Cutting] 29\n",
       "\\item[Drowning] 26\n",
       "\\item[Hanging] 431\n",
       "\\item[Jumping] 15\n",
       "\\end{description*}\n"
      ],
      "text/markdown": [
       "Others\n",
       ":   49Poisoning\n",
       ":   2021Cutting\n",
       ":   29Drowning\n",
       ":   26Hanging\n",
       ":   431Jumping\n",
       ":   15\n",
       "\n"
      ],
      "text/plain": [
       "   Others Poisoning   Cutting  Drowning   Hanging   Jumping \n",
       "       49      2021        29        26       431        15 "
      ]
     },
     "metadata": {},
     "output_type": "display_data"
    },
    {
     "data": {
      "text/html": [
       "<ol class=list-inline>\n",
       "\t<li>'Others'</li>\n",
       "\t<li>'Poisoning'</li>\n",
       "\t<li>'Cutting'</li>\n",
       "\t<li>'Choking'</li>\n",
       "\t<li>'Jumping'</li>\n",
       "</ol>\n"
      ],
      "text/latex": [
       "\\begin{enumerate*}\n",
       "\\item 'Others'\n",
       "\\item 'Poisoning'\n",
       "\\item 'Cutting'\n",
       "\\item 'Choking'\n",
       "\\item 'Jumping'\n",
       "\\end{enumerate*}\n"
      ],
      "text/markdown": [
       "1. 'Others'\n",
       "2. 'Poisoning'\n",
       "3. 'Cutting'\n",
       "4. 'Choking'\n",
       "5. 'Jumping'\n",
       "\n",
       "\n"
      ],
      "text/plain": [
       "[1] \"Others\"    \"Poisoning\" \"Cutting\"   \"Choking\"   \"Jumping\"  "
      ]
     },
     "metadata": {},
     "output_type": "display_data"
    },
    {
     "data": {
      "text/html": [
       "<dl class=dl-horizontal>\n",
       "\t<dt>Others</dt>\n",
       "\t\t<dd>49</dd>\n",
       "\t<dt>Poisoning</dt>\n",
       "\t\t<dd>2021</dd>\n",
       "\t<dt>Cutting</dt>\n",
       "\t\t<dd>29</dd>\n",
       "\t<dt>Choking</dt>\n",
       "\t\t<dd>457</dd>\n",
       "\t<dt>Jumping</dt>\n",
       "\t\t<dd>15</dd>\n",
       "</dl>\n"
      ],
      "text/latex": [
       "\\begin{description*}\n",
       "\\item[Others] 49\n",
       "\\item[Poisoning] 2021\n",
       "\\item[Cutting] 29\n",
       "\\item[Choking] 457\n",
       "\\item[Jumping] 15\n",
       "\\end{description*}\n"
      ],
      "text/markdown": [
       "Others\n",
       ":   49Poisoning\n",
       ":   2021Cutting\n",
       ":   29Choking\n",
       ":   457Jumping\n",
       ":   15\n",
       "\n"
      ],
      "text/plain": [
       "   Others Poisoning   Cutting   Choking   Jumping \n",
       "       49      2021        29       457        15 "
      ]
     },
     "metadata": {},
     "output_type": "display_data"
    },
    {
     "data": {
      "text/html": [
       "<ol class=list-inline>\n",
       "\t<li>'Others'</li>\n",
       "\t<li>'Poisoning'</li>\n",
       "\t<li>'Choking'</li>\n",
       "\t<li>'Physical_Injury'</li>\n",
       "</ol>\n"
      ],
      "text/latex": [
       "\\begin{enumerate*}\n",
       "\\item 'Others'\n",
       "\\item 'Poisoning'\n",
       "\\item 'Choking'\n",
       "\\item 'Physical\\_Injury'\n",
       "\\end{enumerate*}\n"
      ],
      "text/markdown": [
       "1. 'Others'\n",
       "2. 'Poisoning'\n",
       "3. 'Choking'\n",
       "4. 'Physical_Injury'\n",
       "\n",
       "\n"
      ],
      "text/plain": [
       "[1] \"Others\"          \"Poisoning\"       \"Choking\"         \"Physical_Injury\""
      ]
     },
     "metadata": {},
     "output_type": "display_data"
    },
    {
     "data": {
      "text/html": [
       "<dl class=dl-horizontal>\n",
       "\t<dt>Others</dt>\n",
       "\t\t<dd>49</dd>\n",
       "\t<dt>Poisoning</dt>\n",
       "\t\t<dd>2021</dd>\n",
       "\t<dt>Choking</dt>\n",
       "\t\t<dd>457</dd>\n",
       "\t<dt>Physical_Injury</dt>\n",
       "\t\t<dd>44</dd>\n",
       "</dl>\n"
      ],
      "text/latex": [
       "\\begin{description*}\n",
       "\\item[Others] 49\n",
       "\\item[Poisoning] 2021\n",
       "\\item[Choking] 457\n",
       "\\item[Physical\\textbackslash{}\\_Injury] 44\n",
       "\\end{description*}\n"
      ],
      "text/markdown": [
       "Others\n",
       ":   49Poisoning\n",
       ":   2021Choking\n",
       ":   457Physical_Injury\n",
       ":   44\n",
       "\n"
      ],
      "text/plain": [
       "         Others       Poisoning         Choking Physical_Injury \n",
       "             49            2021             457              44 "
      ]
     },
     "metadata": {},
     "output_type": "display_data"
    },
    {
     "data": {
      "image/png": "[encoded data removed]",
      "text/plain": [
       "plot without title"
      ]
     },
     "metadata": {},
     "output_type": "display_data"
    }
   ],
   "source": [
    "#ulteriore ricodificazione ( Pesticide e Poison sono causa di avvelenamento \"Poisoning\")\n",
    "Metodo<-as.character(Metodo)\n",
    "Metodo[which(Metodo==\"Pesticide\" | Metodo==\"Poison\")] <-\"Poisoning\"\n",
    "Metodo<-factor(Metodo, levels=c(\"Others\",\"Poisoning\",\"Cutting\",\"Drowning\",\"Hanging\",\"Jumping\"),labels=c(\"Others\",\"Poisoning\",\"Cutting\",\"Drowning\",\"Hanging\",\"Jumping\"))\n",
    "levels(Metodo)\n",
    "summary(Metodo)\n",
    "Metodo<-as.character(Metodo)\n",
    "Metodo[which(Metodo==\"Hanging\" | Metodo==\"Drowning\")] <-\"Choking\"\n",
    "Metodo<-factor(Metodo, levels=c(\"Others\",\"Poisoning\",\"Cutting\",\"Choking\",\"Jumping\"),labels=c(\"Others\",\"Poisoning\",\"Cutting\",\"Choking\",\"Jumping\"))\n",
    "levels(Metodo)\n",
    "summary(Metodo)\n",
    "Metodo<-as.character(Metodo)\n",
    "Metodo[which(Metodo==\"Cutting\" | Metodo==\"Jumping\")] <-\"Physical_Injury\"\n",
    "Metodo<-factor(Metodo, levels=c(\"Others\",\"Poisoning\",\"Choking\",\"Physical_Injury\"),labels=c(\"Others\",\"Poisoning\",\"Choking\",\"Physical_Injury\"))\n",
    "levels(Metodo)\n",
    "summary(Metodo)\n",
    "plot(Metodo)"
   ]
  },
  {
   "cell_type": "code",
   "execution_count": 27,
   "metadata": {},
   "outputs": [
    {
     "data": {
      "text/plain": [
       "\n",
       "Call:\n",
       "glm(formula = y ~ Età + Sesso + Metodo, family = binomial(link = logit))\n",
       "\n",
       "Deviance Residuals: \n",
       "    Min       1Q   Median       3Q      Max  \n",
       "-3.0661  -0.8317  -0.3361   0.9352   2.3050  \n",
       "\n",
       "Coefficients:\n",
       "                       Estimate Std. Error z value Pr(>|z|)    \n",
       "(Intercept)           -4.993676   0.632164  -7.899 2.80e-15 ***\n",
       "Età                    0.043659   0.002699  16.177  < 2e-16 ***\n",
       "Sessofemale           -0.253196   0.095932  -2.639  0.00831 ** \n",
       "MetodoPoisoning        2.442029   0.612682   3.986 6.73e-05 ***\n",
       "MetodoChoking          6.061453   0.678275   8.937  < 2e-16 ***\n",
       "MetodoPhysical_Injury  3.044718   0.693628   4.390 1.14e-05 ***\n",
       "---\n",
       "Signif. codes:  0 '***' 0.001 '**' 0.01 '*' 0.05 '.' 0.1 ' ' 1\n",
       "\n",
       "(Dispersion parameter for binomial family taken to be 1)\n",
       "\n",
       "    Null deviance: 3562.8  on 2570  degrees of freedom\n",
       "Residual deviance: 2584.5  on 2565  degrees of freedom\n",
       "AIC: 2596.5\n",
       "\n",
       "Number of Fisher Scoring iterations: 6\n"
      ]
     },
     "metadata": {},
     "output_type": "display_data"
    }
   ],
   "source": [
    "fit.y.e.s.m<-glm(y~Età+Sesso+Metodo,family=binomial(link=logit))\n",
    "summary(fit.y.e.s.m)"
   ]
  },
  {
   "cell_type": "markdown",
   "metadata": {},
   "source": [
    "Tutte le categorie della variabile Metodo mostrano ora un effetto significativo sulla media della risposta."
   ]
  },
  {
   "cell_type": "markdown",
   "metadata": {},
   "source": [
    " "
   ]
  },
  {
   "cell_type": "markdown",
   "metadata": {},
   "source": [
    "Inseriamo ora nel modello la variabile categoriale “Occupazione”."
   ]
  },
  {
   "cell_type": "code",
   "execution_count": 28,
   "metadata": {},
   "outputs": [
    {
     "data": {
      "text/plain": [
       "\n",
       "Call:\n",
       "glm(formula = y ~ Età + Sesso + Metodo + Occupazione, family = binomial(link = logit))\n",
       "\n",
       "Deviance Residuals: \n",
       "    Min       1Q   Median       3Q      Max  \n",
       "-3.1755  -0.8098  -0.1767   0.8577   2.8398  \n",
       "\n",
       "Coefficients:\n",
       "                              Estimate Std. Error z value Pr(>|z|)    \n",
       "(Intercept)                   9.025727 441.346345   0.020    0.984    \n",
       "Età                           0.046268   0.002921  15.838  < 2e-16 ***\n",
       "Sessofemale                  -0.137129   0.100780  -1.361    0.174    \n",
       "MetodoPoisoning               2.539340   0.619506   4.099 4.15e-05 ***\n",
       "MetodoChoking                 6.302192   0.694395   9.076  < 2e-16 ***\n",
       "MetodoPhysical_Injury         3.091635   0.708625   4.363 1.28e-05 ***\n",
       "Occupazionebusiness/service -13.763214 441.346189  -0.031    0.975    \n",
       "Occupazionefarming          -14.132831 441.345889  -0.032    0.974    \n",
       "Occupazionehousehold        -15.181331 441.345928  -0.034    0.973    \n",
       "Occupazioneothers/unknown   -16.828625 441.346031  -0.038    0.970    \n",
       "Occupazioneprofessional     -12.930142 441.346070  -0.029    0.977    \n",
       "Occupazioneretiree          -31.432574 611.132331  -0.051    0.959    \n",
       "Occupazionestudent          -13.614605 441.346092  -0.031    0.975    \n",
       "Occupazioneunemployed       -14.462635 441.346215  -0.033    0.974    \n",
       "---\n",
       "Signif. codes:  0 '***' 0.001 '**' 0.01 '*' 0.05 '.' 0.1 ' ' 1\n",
       "\n",
       "(Dispersion parameter for binomial family taken to be 1)\n",
       "\n",
       "    Null deviance: 3562.8  on 2570  degrees of freedom\n",
       "Residual deviance: 2428.9  on 2557  degrees of freedom\n",
       "AIC: 2456.9\n",
       "\n",
       "Number of Fisher Scoring iterations: 13\n"
      ]
     },
     "metadata": {},
     "output_type": "display_data"
    },
    {
     "data": {
      "text/html": [
       "<table>\n",
       "<caption>A anova: 2 × 5</caption>\n",
       "<thead>\n",
       "\t<tr><th></th><th scope=col>Resid. Df</th><th scope=col>Resid. Dev</th><th scope=col>Df</th><th scope=col>Deviance</th><th scope=col>Pr(&gt;Chi)</th></tr>\n",
       "\t<tr><th></th><th scope=col>&lt;dbl&gt;</th><th scope=col>&lt;dbl&gt;</th><th scope=col>&lt;dbl&gt;</th><th scope=col>&lt;dbl&gt;</th><th scope=col>&lt;dbl&gt;</th></tr>\n",
       "</thead>\n",
       "<tbody>\n",
       "\t<tr><th scope=row>1</th><td>2565</td><td>2584.510</td><td>NA</td><td>      NA</td><td>          NA</td></tr>\n",
       "\t<tr><th scope=row>2</th><td>2557</td><td>2428.942</td><td> 8</td><td>155.5677</td><td>1.349828e-29</td></tr>\n",
       "</tbody>\n",
       "</table>\n"
      ],
      "text/latex": [
       "A anova: 2 × 5\n",
       "\\begin{tabular}{r|lllll}\n",
       "  & Resid. Df & Resid. Dev & Df & Deviance & Pr(>Chi)\\\\\n",
       "  & <dbl> & <dbl> & <dbl> & <dbl> & <dbl>\\\\\n",
       "\\hline\n",
       "\t1 & 2565 & 2584.510 & NA &       NA &           NA\\\\\n",
       "\t2 & 2557 & 2428.942 &  8 & 155.5677 & 1.349828e-29\\\\\n",
       "\\end{tabular}\n"
      ],
      "text/markdown": [
       "\n",
       "A anova: 2 × 5\n",
       "\n",
       "| <!--/--> | Resid. Df &lt;dbl&gt; | Resid. Dev &lt;dbl&gt; | Df &lt;dbl&gt; | Deviance &lt;dbl&gt; | Pr(&gt;Chi) &lt;dbl&gt; |\n",
       "|---|---|---|---|---|---|\n",
       "| 1 | 2565 | 2584.510 | NA |       NA |           NA |\n",
       "| 2 | 2557 | 2428.942 |  8 | 155.5677 | 1.349828e-29 |\n",
       "\n"
      ],
      "text/plain": [
       "  Resid. Df Resid. Dev Df Deviance Pr(>Chi)    \n",
       "1 2565      2584.510   NA       NA           NA\n",
       "2 2557      2428.942    8 155.5677 1.349828e-29"
      ]
     },
     "metadata": {},
     "output_type": "display_data"
    }
   ],
   "source": [
    "fit.y.e.s.m.o<-glm(y~Età+Sesso+Metodo+Occupazione,family=binomial(link=logit))\n",
    "summary(fit.y.e.s.m.o)\n",
    "anova(fit.y.e.s.m, fit.y.e.s.m.o, test=\"Chisq\")"
   ]
  },
  {
   "cell_type": "markdown",
   "metadata": {},
   "source": [
    "Anche in questo caso, inizialmente l’effetto delle singole categorie della variabile sembrano non essere statisticamete significative per la stima della probabilità di morte. Effettuando il test ChiQuadro Anova però si capisce che è giusto inserire la variabile nel modello. Come fatto prima, aggreghiamo alcune categorie per rendere il modello più parsimonioso e l’effetto delle categorie sulla media della risposta statisticamente significativo."
   ]
  },
  {
   "cell_type": "markdown",
   "metadata": {},
   "source": [
    "Aggreghiamo le categorie “Others”, ” Others/unknown” e la categoria “retiree” rappresentata da soli 3 casi, nella categoria “others”."
   ]
  },
  {
   "cell_type": "code",
   "execution_count": 29,
   "metadata": {},
   "outputs": [
    {
     "data": {
      "text/html": [
       "<dl class=dl-horizontal>\n",
       "\t<dt>others</dt>\n",
       "\t\t<dd>3</dd>\n",
       "\t<dt>business/service</dt>\n",
       "\t\t<dd>21</dd>\n",
       "\t<dt>farming</dt>\n",
       "\t\t<dd>2038</dd>\n",
       "\t<dt>household</dt>\n",
       "\t\t<dd>248</dd>\n",
       "\t<dt>others/unknown</dt>\n",
       "\t\t<dd>156</dd>\n",
       "\t<dt>professional</dt>\n",
       "\t\t<dd>37</dd>\n",
       "\t<dt>retiree</dt>\n",
       "\t\t<dd>3</dd>\n",
       "\t<dt>student</dt>\n",
       "\t\t<dd>35</dd>\n",
       "\t<dt>unemployed</dt>\n",
       "\t\t<dd>30</dd>\n",
       "</dl>\n"
      ],
      "text/latex": [
       "\\begin{description*}\n",
       "\\item[others] 3\n",
       "\\item[business/service] 21\n",
       "\\item[farming] 2038\n",
       "\\item[household] 248\n",
       "\\item[others/unknown] 156\n",
       "\\item[professional] 37\n",
       "\\item[retiree] 3\n",
       "\\item[student] 35\n",
       "\\item[unemployed] 30\n",
       "\\end{description*}\n"
      ],
      "text/markdown": [
       "others\n",
       ":   3business/service\n",
       ":   21farming\n",
       ":   2038household\n",
       ":   248others/unknown\n",
       ":   156professional\n",
       ":   37retiree\n",
       ":   3student\n",
       ":   35unemployed\n",
       ":   30\n",
       "\n"
      ],
      "text/plain": [
       "          others business/service          farming        household \n",
       "               3               21             2038              248 \n",
       "  others/unknown     professional          retiree          student \n",
       "             156               37                3               35 \n",
       "      unemployed \n",
       "              30 "
      ]
     },
     "metadata": {},
     "output_type": "display_data"
    },
    {
     "data": {
      "text/html": [
       "<dl class=dl-horizontal>\n",
       "\t<dt>others</dt>\n",
       "\t\t<dd>159</dd>\n",
       "\t<dt>business/service</dt>\n",
       "\t\t<dd>21</dd>\n",
       "\t<dt>farming</dt>\n",
       "\t\t<dd>2038</dd>\n",
       "\t<dt>household</dt>\n",
       "\t\t<dd>248</dd>\n",
       "\t<dt>professional</dt>\n",
       "\t\t<dd>37</dd>\n",
       "\t<dt>retiree</dt>\n",
       "\t\t<dd>3</dd>\n",
       "\t<dt>student</dt>\n",
       "\t\t<dd>35</dd>\n",
       "\t<dt>unemployed</dt>\n",
       "\t\t<dd>30</dd>\n",
       "</dl>\n"
      ],
      "text/latex": [
       "\\begin{description*}\n",
       "\\item[others] 159\n",
       "\\item[business/service] 21\n",
       "\\item[farming] 2038\n",
       "\\item[household] 248\n",
       "\\item[professional] 37\n",
       "\\item[retiree] 3\n",
       "\\item[student] 35\n",
       "\\item[unemployed] 30\n",
       "\\end{description*}\n"
      ],
      "text/markdown": [
       "others\n",
       ":   159business/service\n",
       ":   21farming\n",
       ":   2038household\n",
       ":   248professional\n",
       ":   37retiree\n",
       ":   3student\n",
       ":   35unemployed\n",
       ":   30\n",
       "\n"
      ],
      "text/plain": [
       "          others business/service          farming        household \n",
       "             159               21             2038              248 \n",
       "    professional          retiree          student       unemployed \n",
       "              37                3               35               30 "
      ]
     },
     "metadata": {},
     "output_type": "display_data"
    },
    {
     "data": {
      "text/html": [
       "<dl class=dl-horizontal>\n",
       "\t<dt>others</dt>\n",
       "\t\t<dd>162</dd>\n",
       "\t<dt>business/service</dt>\n",
       "\t\t<dd>21</dd>\n",
       "\t<dt>farming</dt>\n",
       "\t\t<dd>2038</dd>\n",
       "\t<dt>household</dt>\n",
       "\t\t<dd>248</dd>\n",
       "\t<dt>professional</dt>\n",
       "\t\t<dd>37</dd>\n",
       "\t<dt>student</dt>\n",
       "\t\t<dd>35</dd>\n",
       "\t<dt>unemployed</dt>\n",
       "\t\t<dd>30</dd>\n",
       "</dl>\n"
      ],
      "text/latex": [
       "\\begin{description*}\n",
       "\\item[others] 162\n",
       "\\item[business/service] 21\n",
       "\\item[farming] 2038\n",
       "\\item[household] 248\n",
       "\\item[professional] 37\n",
       "\\item[student] 35\n",
       "\\item[unemployed] 30\n",
       "\\end{description*}\n"
      ],
      "text/markdown": [
       "others\n",
       ":   162business/service\n",
       ":   21farming\n",
       ":   2038household\n",
       ":   248professional\n",
       ":   37student\n",
       ":   35unemployed\n",
       ":   30\n",
       "\n"
      ],
      "text/plain": [
       "          others business/service          farming        household \n",
       "             162               21             2038              248 \n",
       "    professional          student       unemployed \n",
       "              37               35               30 "
      ]
     },
     "metadata": {},
     "output_type": "display_data"
    },
    {
     "data": {
      "image/png": "[encoded data removed]",
      "text/plain": [
       "plot without title"
      ]
     },
     "metadata": {},
     "output_type": "display_data"
    }
   ],
   "source": [
    "summary(Occupazione)\n",
    "Occupazione<-as.character(Occupazione)\n",
    "Occupazione[which(Occupazione==\"others/unknown\")] <-\"others\"\n",
    "Occupazione<-factor(Occupazione, levels=c(\"others\" ,\"business/service\",\"farming\",\"household\",\"professional\",\"retiree\",\"student\",\"unemployed\"), labels=c(\"others\" ,\"business/service\",\"farming\",\"household\",\"professional\",\"retiree\",\"student\",\"unemployed\"))\n",
    "summary(Occupazione)\n",
    "\n",
    "Occupazione<-as.character(Occupazione)\n",
    "Occupazione[which(Occupazione==\"retiree\")] <-\"others\"\n",
    "Occupazione<-factor(Occupazione, levels=c(\"others\" ,\"business/service\",\"farming\",\"household\",\"professional\",\"student\",\"unemployed\"), labels=c(\"others\" ,\"business/service\",\"farming\",\"household\",\"professional\",\"student\",\"unemployed\"))\n",
    "summary(Occupazione)\n",
    "\n",
    "plot(Occupazione)"
   ]
  },
  {
   "cell_type": "code",
   "execution_count": 30,
   "metadata": {},
   "outputs": [
    {
     "data": {
      "text/plain": [
       "\n",
       "Call:\n",
       "glm(formula = y ~ Età + Sesso + Metodo + Occupazione, family = binomial(link = logit))\n",
       "\n",
       "Deviance Residuals: \n",
       "    Min       1Q   Median       3Q      Max  \n",
       "-3.1569  -0.8131  -0.1932   0.8571   2.7878  \n",
       "\n",
       "Coefficients:\n",
       "                             Estimate Std. Error z value Pr(>|z|)    \n",
       "(Intercept)                 -7.647655   0.727492 -10.512  < 2e-16 ***\n",
       "Età                          0.046039   0.002911  15.817  < 2e-16 ***\n",
       "Sessofemale                 -0.152643   0.100465  -1.519 0.128670    \n",
       "MetodoPoisoning              2.539519   0.619272   4.101 4.12e-05 ***\n",
       "MetodoChoking                6.242894   0.688663   9.065  < 2e-16 ***\n",
       "MetodoPhysical_Injury        3.190452   0.706633   4.515 6.33e-06 ***\n",
       "Occupazionebusiness/service  2.926950   0.613787   4.769 1.85e-06 ***\n",
       "Occupazionefarming           2.559662   0.330755   7.739 1.00e-14 ***\n",
       "Occupazionehousehold         1.519611   0.371950   4.086 4.40e-05 ***\n",
       "Occupazioneprofessional      3.755173   0.523579   7.172 7.38e-13 ***\n",
       "Occupazionestudent           3.062450   0.548531   5.583 2.36e-08 ***\n",
       "Occupazioneunemployed        2.204112   0.641786   3.434 0.000594 ***\n",
       "---\n",
       "Signif. codes:  0 '***' 0.001 '**' 0.01 '*' 0.05 '.' 0.1 ' ' 1\n",
       "\n",
       "(Dispersion parameter for binomial family taken to be 1)\n",
       "\n",
       "    Null deviance: 3562.8  on 2570  degrees of freedom\n",
       "Residual deviance: 2444.4  on 2559  degrees of freedom\n",
       "AIC: 2468.4\n",
       "\n",
       "Number of Fisher Scoring iterations: 6\n"
      ]
     },
     "metadata": {},
     "output_type": "display_data"
    }
   ],
   "source": [
    "fit.y.e.s.m.o<-glm(y~Età+Sesso+Metodo+Occupazione,family=binomial(link=logit))\n",
    "summary(fit.y.e.s.m.o)"
   ]
  },
  {
   "cell_type": "markdown",
   "metadata": {},
   "source": [
    "Così facendo, abbiamo un netto miglioramento del modello. "
   ]
  },
  {
   "cell_type": "markdown",
   "metadata": {},
   "source": [
    "Aggiungiamo ora il regressore Educazione. "
   ]
  },
  {
   "cell_type": "code",
   "execution_count": 31,
   "metadata": {},
   "outputs": [
    {
     "data": {
      "text/plain": [
       "\n",
       "Call:\n",
       "glm(formula = y ~ Età + Sesso + Metodo + Occupazione + Educazione, \n",
       "    family = binomial(link = logit))\n",
       "\n",
       "Deviance Residuals: \n",
       "    Min       1Q   Median       3Q      Max  \n",
       "-3.3428  -0.6909  -0.2158   0.6588   2.6734  \n",
       "\n",
       "Coefficients:\n",
       "                             Estimate Std. Error z value Pr(>|z|)    \n",
       "(Intercept)                 -4.217467   0.805435  -5.236 1.64e-07 ***\n",
       "Età                          0.016527   0.003591   4.603 4.17e-06 ***\n",
       "Sessofemale                 -0.269342   0.108074  -2.492 0.012696 *  \n",
       "MetodoPoisoning              2.508290   0.633920   3.957 7.60e-05 ***\n",
       "MetodoChoking                6.244373   0.704192   8.867  < 2e-16 ***\n",
       "MetodoPhysical_Injury        3.191203   0.730113   4.371 1.24e-05 ***\n",
       "Occupazionebusiness/service  2.580195   0.673685   3.830 0.000128 ***\n",
       "Occupazionefarming           2.184572   0.400947   5.449 5.08e-08 ***\n",
       "Occupazionehousehold         1.019224   0.437905   2.327 0.019939 *  \n",
       "Occupazioneprofessional      3.780822   0.562800   6.718 1.84e-11 ***\n",
       "Occupazionestudent           2.293548   0.602454   3.807 0.000141 ***\n",
       "Occupazioneunemployed        1.914827   0.656667   2.916 0.003546 ** \n",
       "Educazioneprimary           -0.690923   0.166924  -4.139 3.49e-05 ***\n",
       "EducazioneSecondary         -2.282124   0.175562 -12.999  < 2e-16 ***\n",
       "Educazioneunknown           -1.916940   0.585179  -3.276 0.001054 ** \n",
       "---\n",
       "Signif. codes:  0 '***' 0.001 '**' 0.01 '*' 0.05 '.' 0.1 ' ' 1\n",
       "\n",
       "(Dispersion parameter for binomial family taken to be 1)\n",
       "\n",
       "    Null deviance: 3562.8  on 2570  degrees of freedom\n",
       "Residual deviance: 2209.3  on 2556  degrees of freedom\n",
       "AIC: 2239.3\n",
       "\n",
       "Number of Fisher Scoring iterations: 6\n"
      ]
     },
     "metadata": {},
     "output_type": "display_data"
    },
    {
     "data": {
      "text/html": [
       "<table>\n",
       "<caption>A anova: 2 × 5</caption>\n",
       "<thead>\n",
       "\t<tr><th></th><th scope=col>Resid. Df</th><th scope=col>Resid. Dev</th><th scope=col>Df</th><th scope=col>Deviance</th><th scope=col>Pr(&gt;Chi)</th></tr>\n",
       "\t<tr><th></th><th scope=col>&lt;dbl&gt;</th><th scope=col>&lt;dbl&gt;</th><th scope=col>&lt;dbl&gt;</th><th scope=col>&lt;dbl&gt;</th><th scope=col>&lt;dbl&gt;</th></tr>\n",
       "</thead>\n",
       "<tbody>\n",
       "\t<tr><th scope=row>1</th><td>2559</td><td>2444.367</td><td>NA</td><td>      NA</td><td>          NA</td></tr>\n",
       "\t<tr><th scope=row>2</th><td>2556</td><td>2209.286</td><td> 3</td><td>235.0815</td><td>1.101764e-50</td></tr>\n",
       "</tbody>\n",
       "</table>\n"
      ],
      "text/latex": [
       "A anova: 2 × 5\n",
       "\\begin{tabular}{r|lllll}\n",
       "  & Resid. Df & Resid. Dev & Df & Deviance & Pr(>Chi)\\\\\n",
       "  & <dbl> & <dbl> & <dbl> & <dbl> & <dbl>\\\\\n",
       "\\hline\n",
       "\t1 & 2559 & 2444.367 & NA &       NA &           NA\\\\\n",
       "\t2 & 2556 & 2209.286 &  3 & 235.0815 & 1.101764e-50\\\\\n",
       "\\end{tabular}\n"
      ],
      "text/markdown": [
       "\n",
       "A anova: 2 × 5\n",
       "\n",
       "| <!--/--> | Resid. Df &lt;dbl&gt; | Resid. Dev &lt;dbl&gt; | Df &lt;dbl&gt; | Deviance &lt;dbl&gt; | Pr(&gt;Chi) &lt;dbl&gt; |\n",
       "|---|---|---|---|---|---|\n",
       "| 1 | 2559 | 2444.367 | NA |       NA |           NA |\n",
       "| 2 | 2556 | 2209.286 |  3 | 235.0815 | 1.101764e-50 |\n",
       "\n"
      ],
      "text/plain": [
       "  Resid. Df Resid. Dev Df Deviance Pr(>Chi)    \n",
       "1 2559      2444.367   NA       NA           NA\n",
       "2 2556      2209.286    3 235.0815 1.101764e-50"
      ]
     },
     "metadata": {},
     "output_type": "display_data"
    }
   ],
   "source": [
    "fit.y.e.s.m.o.e<-glm(y~Età+Sesso+Metodo+Occupazione+Educazione,family=binomial(link=logit))\n",
    "summary(fit.y.e.s.m.o.e)\n",
    "anova(fit.y.e.s.m.o, fit.y.e.s.m.o.e, test=\"Chisq\")\n"
   ]
  },
  {
   "cell_type": "markdown",
   "metadata": {},
   "source": [
    "Tutte le categorie della variabile “Educazione” risultano avere un effetto statisticamente significativo sulla risposta.\n",
    "Un’ulteriore conferma è data dal test Anova\n"
   ]
  },
  {
   "cell_type": "markdown",
   "metadata": {},
   "source": [
    "Ecco dunque il nostro modello_finale: “y~Età+Sesso+Metodo+Occupazione+Educazione”"
   ]
  },
  {
   "cell_type": "code",
   "execution_count": 32,
   "metadata": {},
   "outputs": [
    {
     "data": {
      "text/plain": [
       "\n",
       "Call:  glm(formula = y ~ Età + Sesso + Metodo + Occupazione + Educazione, \n",
       "    family = binomial(link = logit))\n",
       "\n",
       "Coefficients:\n",
       "                (Intercept)                          Età  \n",
       "                   -4.21747                      0.01653  \n",
       "                Sessofemale              MetodoPoisoning  \n",
       "                   -0.26934                      2.50829  \n",
       "              MetodoChoking        MetodoPhysical_Injury  \n",
       "                    6.24437                      3.19120  \n",
       "Occupazionebusiness/service           Occupazionefarming  \n",
       "                    2.58020                      2.18457  \n",
       "       Occupazionehousehold      Occupazioneprofessional  \n",
       "                    1.01922                      3.78082  \n",
       "         Occupazionestudent        Occupazioneunemployed  \n",
       "                    2.29355                      1.91483  \n",
       "          Educazioneprimary          EducazioneSecondary  \n",
       "                   -0.69092                     -2.28212  \n",
       "          Educazioneunknown  \n",
       "                   -1.91694  \n",
       "\n",
       "Degrees of Freedom: 2570 Total (i.e. Null);  2556 Residual\n",
       "Null Deviance:\t    3563 \n",
       "Residual Deviance: 2209 \tAIC: 2239"
      ]
     },
     "metadata": {},
     "output_type": "display_data"
    }
   ],
   "source": [
    "(modello_finale<-fit.y.e.s.m.o.e)"
   ]
  },
  {
   "cell_type": "markdown",
   "metadata": {},
   "source": [
    "Tra tutte le possibili interazioni tra variabili, quella statisticamente più significativa nella spiegazione della risposta, è quella tra “Area Urbana” ed “Età” tuttavia per introdurla nel modello dovremmo ammettere un livello di significatività maggiore del 10%."
   ]
  },
  {
   "cell_type": "code",
   "execution_count": 33,
   "metadata": {},
   "outputs": [
    {
     "data": {
      "text/plain": [
       "\n",
       "Call:\n",
       "glm(formula = y ~ Età + Sesso * Area_Urbana + Metodo + Occupazione + \n",
       "    Educazione, family = binomial(link = logit))\n",
       "\n",
       "Deviance Residuals: \n",
       "    Min       1Q   Median       3Q      Max  \n",
       "-3.3268  -0.6848  -0.2071   0.6565   2.6292  \n",
       "\n",
       "Coefficients:\n",
       "                             Estimate Std. Error z value Pr(>|z|)    \n",
       "(Intercept)                 -4.328322   0.808993  -5.350 8.78e-08 ***\n",
       "Età                          0.016702   0.003595   4.646 3.38e-06 ***\n",
       "Sessofemale                 -0.212433   0.114152  -1.861 0.062749 .  \n",
       "Area_Urbanayes               0.541106   0.254414   2.127 0.033431 *  \n",
       "MetodoPoisoning              2.489538   0.634052   3.926 8.62e-05 ***\n",
       "MetodoChoking                6.212250   0.703870   8.826  < 2e-16 ***\n",
       "MetodoPhysical_Injury        3.111688   0.730106   4.262 2.03e-05 ***\n",
       "Occupazionebusiness/service  2.588276   0.679489   3.809 0.000139 ***\n",
       "Occupazionefarming           2.259581   0.406063   5.565 2.63e-08 ***\n",
       "Occupazionehousehold         1.085893   0.442448   2.454 0.014117 *  \n",
       "Occupazioneprofessional      3.830767   0.567177   6.754 1.44e-11 ***\n",
       "Occupazionestudent           2.319957   0.609619   3.806 0.000141 ***\n",
       "Occupazioneunemployed        1.975131   0.663117   2.979 0.002896 ** \n",
       "Educazioneprimary           -0.685490   0.167087  -4.103 4.09e-05 ***\n",
       "EducazioneSecondary         -2.290920   0.176020 -13.015  < 2e-16 ***\n",
       "Educazioneunknown           -1.913459   0.587160  -3.259 0.001119 ** \n",
       "Sessofemale:Area_Urbanayes  -0.564987   0.345280  -1.636 0.101774    \n",
       "---\n",
       "Signif. codes:  0 '***' 0.001 '**' 0.01 '*' 0.05 '.' 0.1 ' ' 1\n",
       "\n",
       "(Dispersion parameter for binomial family taken to be 1)\n",
       "\n",
       "    Null deviance: 3562.8  on 2570  degrees of freedom\n",
       "Residual deviance: 2204.8  on 2554  degrees of freedom\n",
       "AIC: 2238.8\n",
       "\n",
       "Number of Fisher Scoring iterations: 6\n"
      ]
     },
     "metadata": {},
     "output_type": "display_data"
    }
   ],
   "source": [
    "prova<-glm(y~Età+Sesso*Area_Urbana+Metodo+Occupazione+Educazione,family=binomial(link=logit))\n",
    "summary(prova)"
   ]
  },
  {
   "cell_type": "markdown",
   "metadata": {},
   "source": [
    "Andiamo ora a mostrare i gruppi formati dai singoli regressori facenti parte del modello finale, e la risposta:"
   ]
  },
  {
   "cell_type": "code",
   "execution_count": 34,
   "metadata": {},
   "outputs": [
    {
     "data": {
      "text/plain": [
       "     Metodo\n",
       "Morto Others Poisoning Choking Physical_Injury\n",
       "  no      46      1233      12              24\n",
       "  yes      3       788     445              20"
      ]
     },
     "metadata": {},
     "output_type": "display_data"
    },
    {
     "data": {
      "image/png": "[encoded data removed]",
      "text/plain": [
       "Plot with title \"\""
      ]
     },
     "metadata": {},
     "output_type": "display_data"
    }
   ],
   "source": [
    "#metodo:\n",
    "table(Morto, Metodo)\n",
    "plot(Metodo, Morto, pch = 16, xlab = \"Metodo\", ylab = \"Morte\")"
   ]
  },
  {
   "cell_type": "code",
   "execution_count": 35,
   "metadata": {},
   "outputs": [
    {
     "data": {
      "text/plain": [
       "     Sesso\n",
       "Morto male female\n",
       "  no   574    741\n",
       "  yes  669    587"
      ]
     },
     "metadata": {},
     "output_type": "display_data"
    },
    {
     "data": {
      "image/png": "[encoded data removed]",
      "text/plain": [
       "Plot with title \"\""
      ]
     },
     "metadata": {},
     "output_type": "display_data"
    }
   ],
   "source": [
    "\n",
    "#Sesso:\n",
    "table(Morto,Sesso)\n",
    "plot(Sesso, Morto, pch = 16, xlab = \"Metodo\", ylab = \"Morte\")\n"
   ]
  },
  {
   "cell_type": "code",
   "execution_count": 36,
   "metadata": {},
   "outputs": [
    {
     "data": {
      "text/plain": [
       "     Occupazione\n",
       "Morto others business/service farming household professional student unemployed\n",
       "  no     149               12     939       154           11      27         23\n",
       "  yes     13                9    1099        94           26       8          7"
      ]
     },
     "metadata": {},
     "output_type": "display_data"
    },
    {
     "data": {
      "image/png": "[encoded data removed]",
      "text/plain": [
       "Plot with title \"\""
      ]
     },
     "metadata": {},
     "output_type": "display_data"
    }
   ],
   "source": [
    "#Occupazione:\n",
    "table(Morto, Occupazione)\n",
    "plot(Occupazione, Morto, xlab = \"Metodo\", ylab = \"Morte\")"
   ]
  },
  {
   "cell_type": "code",
   "execution_count": 37,
   "metadata": {},
   "outputs": [
    {
     "data": {
      "text/plain": [
       "     Educazione\n",
       "Morto iliterate primary Secondary unknown\n",
       "  no         80     191       975      69\n",
       "  yes       453     468       324      11"
      ]
     },
     "metadata": {},
     "output_type": "display_data"
    },
    {
     "data": {
      "image/png": "[encoded data removed]",
      "text/plain": [
       "Plot with title \"\""
      ]
     },
     "metadata": {},
     "output_type": "display_data"
    }
   ],
   "source": [
    "#Educazione\n",
    "table(Morto, Educazione)\n",
    "plot(Educazione, Morto, pch = 16, xlab = \"Metodo\", ylab = \"Morte\")"
   ]
  },
  {
   "cell_type": "markdown",
   "metadata": {},
   "source": [
    "Mostrando le realizzazioni congiunte delle variabili: “Occupazione” e “Metodo”, notiamo che un alto tasso di persone che ha un grado di educazione alto possiede un lavoro domestico o lavora nel campo agricolo e questo fortifica la precedente teoria riguardante il grado di insoddisfazione di questa categoria di persone."
   ]
  },
  {
   "cell_type": "code",
   "execution_count": 38,
   "metadata": {},
   "outputs": [
    {
     "data": {
      "text/plain": [
       "           Occupazione\n",
       "Educazione  others business/service farming household professional student\n",
       "  iliterate      6                1     477        49            0       0\n",
       "  primary       10                4     557        81            4       3\n",
       "  Secondary     75               16     998       117           33      32\n",
       "  unknown       71                0       6         1            0       0\n",
       "           Occupazione\n",
       "Educazione  unemployed\n",
       "  iliterate          0\n",
       "  primary            0\n",
       "  Secondary         28\n",
       "  unknown            2"
      ]
     },
     "metadata": {},
     "output_type": "display_data"
    }
   ],
   "source": [
    "table(Educazione, Occupazione)"
   ]
  },
  {
   "cell_type": "markdown",
   "metadata": {},
   "source": [
    "## VALIDAZIONE DEL MODELLO\n",
    "\n",
    "Facciamo ora un’analisi critica dei risultati ottenuti dal nostro modello cercando di capire, se i valori stimati si avvicinano a quelli che sono stati effettivamente osservati.\n",
    "\n",
    "Procediamo con la costruzione della tabella di corretta classificazione considerando come soglia critica tra “morte” e “sopravvivenza” la probabilità di 0.5  (>0.5 Y=YES;  <0.5 Y=NO )\n"
   ]
  },
  {
   "cell_type": "code",
   "execution_count": 39,
   "metadata": {},
   "outputs": [
    {
     "data": {
      "text/plain": [
       "     \n",
       "y     FALSE TRUE\n",
       "  no   1090  225\n",
       "  yes   264  992"
      ]
     },
     "metadata": {},
     "output_type": "display_data"
    }
   ],
   "source": [
    "tab <- table(y, modello_finale$fitted >.5)                     \n",
    "tab"
   ]
  },
  {
   "cell_type": "code",
   "execution_count": 40,
   "metadata": {},
   "outputs": [
    {
     "data": {
      "text/html": [
       "0.809801633605601"
      ],
      "text/latex": [
       "0.809801633605601"
      ],
      "text/markdown": [
       "0.809801633605601"
      ],
      "text/plain": [
       "[1] 0.8098016"
      ]
     },
     "metadata": {},
     "output_type": "display_data"
    }
   ],
   "source": [
    "sum(diag(tab))/sum(tab) # percentuale di corretta classificazione"
   ]
  },
  {
   "cell_type": "markdown",
   "metadata": {},
   "source": [
    "La percentuale di corretta classificazione del modello costruito è 81%."
   ]
  },
  {
   "cell_type": "markdown",
   "metadata": {},
   "source": [
    "###### Residui"
   ]
  },
  {
   "cell_type": "markdown",
   "metadata": {},
   "source": [
    "I residui variano da un massimo di 2.67 ad un minimo di -3,34; i valori stimati quindi non si discostano molto da quelli osservati. Ulteriore conferma della bontà del modello è data dal seguente grafico, in cui notiamo che i residui si distribuiscono erraticamente intorno allo 0  non mostrando alcun trend."
   ]
  },
  {
   "cell_type": "code",
   "execution_count": 41,
   "metadata": {},
   "outputs": [
    {
     "data": {
      "text/plain": [
       "    Min.  1st Qu.   Median     Mean  3rd Qu.     Max. \n",
       "-3.34275 -0.69092 -0.21580 -0.02465  0.65877  2.67340 "
      ]
     },
     "metadata": {},
     "output_type": "display_data"
    },
    {
     "data": {
      "image/png": "[encoded data removed]",
      "text/plain": [
       "plot without title"
      ]
     },
     "metadata": {},
     "output_type": "display_data"
    }
   ],
   "source": [
    "summary(residuals.glm(modello_finale))\n",
    "plot(residuals.glm(modello_finale), col=\"orange\", pch=20, xlab=\"Osservazioni\", ylab=\"Residui\")\n",
    "abline(h=0)"
   ]
  },
  {
   "cell_type": "markdown",
   "metadata": {},
   "source": [
    "Infine, il p-value elevato del test di Hosmer-Lemeshow, ci conferma la bontà di adattamento del nostro modello ai dati."
   ]
  },
  {
   "cell_type": "code",
   "execution_count": 42,
   "metadata": {},
   "outputs": [
    {
     "name": "stderr",
     "output_type": "stream",
     "text": [
      "Warning message:\n",
      "\"package 'generalhoslem' was built under R version 3.6.2\"Loading required package: reshape\n",
      "Warning message:\n",
      "\"package 'reshape' was built under R version 3.6.2\"Loading required package: MASS\n"
     ]
    },
    {
     "data": {
      "text/plain": [
       "\n",
       "\tHosmer and Lemeshow test (binary model)\n",
       "\n",
       "data:  modello_finale$y, fitted(modello_finale)\n",
       "X-squared = 3.9949, df = 8, p-value = 0.8576\n"
      ]
     },
     "metadata": {},
     "output_type": "display_data"
    }
   ],
   "source": [
    "library(generalhoslem)\n",
    "hl<-logitgof(modello_finale$y, fitted(modello_finale))\n",
    "hl"
   ]
  },
  {
   "cell_type": "markdown",
   "metadata": {},
   "source": [
    " "
   ]
  },
  {
   "cell_type": "markdown",
   "metadata": {},
   "source": [
    "### Analisi dei Risultati\n",
    "Una volta validata la bontà del modello, mostriamo in tabella le stime e gli intervalli di confidenza per i parametri e dell’effetto dei regressori associati ad essi, sulla probabilità di morire in seguito ad un tentativo di suicidio."
   ]
  },
  {
   "cell_type": "code",
   "execution_count": 43,
   "metadata": {},
   "outputs": [
    {
     "name": "stderr",
     "output_type": "stream",
     "text": [
      "Waiting for profiling to be done...\n",
      "Waiting for profiling to be done...\n"
     ]
    },
    {
     "data": {
      "text/html": [
       "<table>\n",
       "<caption>A matrix: 16 × 6 of type chr</caption>\n",
       "<thead>\n",
       "\t<tr><th></th><th scope=col></th><th scope=col>2.5 %</th><th scope=col>97.5 %</th><th scope=col></th><th scope=col>2.5 %</th><th scope=col>97.5 %</th></tr>\n",
       "</thead>\n",
       "<tbody>\n",
       "\t<tr><th scope=row></th><td>Parametri         </td><td>IC lower           </td><td>IC upper           </td><td>Exp(Parametri)    </td><td>IC lower           </td><td>IC upper          </td></tr>\n",
       "\t<tr><th scope=row>(Intercept)</th><td>-4.21746661502228 </td><td>-5.95363795136122  </td><td>-2.74009382172736  </td><td>0.0147359290381804</td><td>0.00259637782020165</td><td>0.0645642890758689</td></tr>\n",
       "\t<tr><th scope=row>Età</th><td>0.0165273954875841</td><td>0.00949374586595065</td><td>0.0235771753520945 </td><td>1.01666472843049  </td><td>1.00953895442416   </td><td>1.02385731424636  </td></tr>\n",
       "\t<tr><th scope=row>Sessofemale</th><td>-0.269341814397309</td><td>-0.481581387439387 </td><td>-0.0577648495342755</td><td>0.76388210511686  </td><td>0.617805628837441  </td><td>0.943871873253376 </td></tr>\n",
       "\t<tr><th scope=row>MetodoPoisoning</th><td>2.50828955826753  </td><td>1.40885091360284   </td><td>3.97639703560277   </td><td>12.2839011840806  </td><td>4.09125150054633   </td><td>53.3245612034638  </td></tr>\n",
       "\t<tr><th scope=row>MetodoChoking</th><td>6.24437344393186  </td><td>4.99029720618149   </td><td>7.8200056543709    </td><td>515.106380768821  </td><td>146.980100399245   </td><td>2489.91948693309  </td></tr>\n",
       "\t<tr><th scope=row>MetodoPhysical_Injury</th><td>3.19120300725477  </td><td>1.8636300056161    </td><td>4.79913864224882   </td><td>24.3176641799928  </td><td>6.44709734584217   </td><td>121.405798642365  </td></tr>\n",
       "\t<tr><th scope=row>Occupazionebusiness/service</th><td>2.58019502138277  </td><td>1.24780581863546   </td><td>3.90534355898772   </td><td>13.1997121347728  </td><td>3.4826929078561    </td><td>49.6671405738762  </td></tr>\n",
       "\t<tr><th scope=row>Occupazionefarming</th><td>2.18457177449727  </td><td>1.44265760686533   </td><td>3.02356939158733   </td><td>8.88684216597926  </td><td>4.23192768551093   </td><td>20.5645638190199  </td></tr>\n",
       "\t<tr><th scope=row>Occupazionehousehold</th><td>1.01922374277716  </td><td>0.195189996621145  </td><td>1.92116941106818   </td><td>2.77104288681159  </td><td>1.21554191340778   </td><td>6.82893963934512  </td></tr>\n",
       "\t<tr><th scope=row>Occupazioneprofessional</th><td>3.7808224452708   </td><td>2.70781525872139   </td><td>4.92374040760546   </td><td>43.8520928548887  </td><td>14.9964762782398   </td><td>137.516018376565  </td></tr>\n",
       "\t<tr><th scope=row>Occupazionestudent</th><td>2.29354828450834  </td><td>1.09135347237745   </td><td>3.4737046531923    </td><td>9.91003900748618  </td><td>2.97830239586045   </td><td>32.2560187324643  </td></tr>\n",
       "\t<tr><th scope=row>Occupazioneunemployed</th><td>1.91482721150617  </td><td>0.56372586241774   </td><td>3.17018930014994   </td><td>6.78576619337598  </td><td>1.75720743173861   </td><td>23.8119915433794  </td></tr>\n",
       "\t<tr><th scope=row>Educazioneprimary</th><td>-0.690922723227812</td><td>-1.02138838545232  </td><td>-0.366457594176129 </td><td>0.501113466636439 </td><td>0.360094642787125  </td><td>0.693185530962838 </td></tr>\n",
       "\t<tr><th scope=row>EducazioneSecondary</th><td>-2.28212413736555 </td><td>-2.63125416432262  </td><td>-1.94253456778228  </td><td>0.102067171597953 </td><td>0.0719881206664273 </td><td>0.143340183566207 </td></tr>\n",
       "\t<tr><th scope=row>Educazioneunknown</th><td>-1.91694028288117 </td><td>-3.10526569392251  </td><td>-0.788617475818317 </td><td>0.14705622492015  </td><td>0.0448126105391204 </td><td>0.454472680619886 </td></tr>\n",
       "</tbody>\n",
       "</table>\n"
      ],
      "text/latex": [
       "A matrix: 16 × 6 of type chr\n",
       "\\begin{tabular}{r|llllll}\n",
       "  &  & 2.5 \\% & 97.5 \\% &  & 2.5 \\% & 97.5 \\%\\\\\n",
       "\\hline\n",
       "\t & Parametri          & IC lower            & IC upper            & Exp(Parametri)     & IC lower            & IC upper          \\\\\n",
       "\t(Intercept) & -4.21746661502228  & -5.95363795136122   & -2.74009382172736   & 0.0147359290381804 & 0.00259637782020165 & 0.0645642890758689\\\\\n",
       "\tEtà & 0.0165273954875841 & 0.00949374586595065 & 0.0235771753520945  & 1.01666472843049   & 1.00953895442416    & 1.02385731424636  \\\\\n",
       "\tSessofemale & -0.269341814397309 & -0.481581387439387  & -0.0577648495342755 & 0.76388210511686   & 0.617805628837441   & 0.943871873253376 \\\\\n",
       "\tMetodoPoisoning & 2.50828955826753   & 1.40885091360284    & 3.97639703560277    & 12.2839011840806   & 4.09125150054633    & 53.3245612034638  \\\\\n",
       "\tMetodoChoking & 6.24437344393186   & 4.99029720618149    & 7.8200056543709     & 515.106380768821   & 146.980100399245    & 2489.91948693309  \\\\\n",
       "\tMetodoPhysical\\_Injury & 3.19120300725477   & 1.8636300056161     & 4.79913864224882    & 24.3176641799928   & 6.44709734584217    & 121.405798642365  \\\\\n",
       "\tOccupazionebusiness/service & 2.58019502138277   & 1.24780581863546    & 3.90534355898772    & 13.1997121347728   & 3.4826929078561     & 49.6671405738762  \\\\\n",
       "\tOccupazionefarming & 2.18457177449727   & 1.44265760686533    & 3.02356939158733    & 8.88684216597926   & 4.23192768551093    & 20.5645638190199  \\\\\n",
       "\tOccupazionehousehold & 1.01922374277716   & 0.195189996621145   & 1.92116941106818    & 2.77104288681159   & 1.21554191340778    & 6.82893963934512  \\\\\n",
       "\tOccupazioneprofessional & 3.7808224452708    & 2.70781525872139    & 4.92374040760546    & 43.8520928548887   & 14.9964762782398    & 137.516018376565  \\\\\n",
       "\tOccupazionestudent & 2.29354828450834   & 1.09135347237745    & 3.4737046531923     & 9.91003900748618   & 2.97830239586045    & 32.2560187324643  \\\\\n",
       "\tOccupazioneunemployed & 1.91482721150617   & 0.56372586241774    & 3.17018930014994    & 6.78576619337598   & 1.75720743173861    & 23.8119915433794  \\\\\n",
       "\tEducazioneprimary & -0.690922723227812 & -1.02138838545232   & -0.366457594176129  & 0.501113466636439  & 0.360094642787125   & 0.693185530962838 \\\\\n",
       "\tEducazioneSecondary & -2.28212413736555  & -2.63125416432262   & -1.94253456778228   & 0.102067171597953  & 0.0719881206664273  & 0.143340183566207 \\\\\n",
       "\tEducazioneunknown & -1.91694028288117  & -3.10526569392251   & -0.788617475818317  & 0.14705622492015   & 0.0448126105391204  & 0.454472680619886 \\\\\n",
       "\\end{tabular}\n"
      ],
      "text/markdown": [
       "\n",
       "A matrix: 16 × 6 of type chr\n",
       "\n",
       "| <!--/--> | <!----> | 2.5 % | 97.5 % | <!----> | 2.5 % | 97.5 % |\n",
       "|---|---|---|---|---|---|---|\n",
       "| <!----> | Parametri          | IC lower            | IC upper            | Exp(Parametri)     | IC lower            | IC upper           |\n",
       "| (Intercept) | -4.21746661502228  | -5.95363795136122   | -2.74009382172736   | 0.0147359290381804 | 0.00259637782020165 | 0.0645642890758689 |\n",
       "| Età | 0.0165273954875841 | 0.00949374586595065 | 0.0235771753520945  | 1.01666472843049   | 1.00953895442416    | 1.02385731424636   |\n",
       "| Sessofemale | -0.269341814397309 | -0.481581387439387  | -0.0577648495342755 | 0.76388210511686   | 0.617805628837441   | 0.943871873253376  |\n",
       "| MetodoPoisoning | 2.50828955826753   | 1.40885091360284    | 3.97639703560277    | 12.2839011840806   | 4.09125150054633    | 53.3245612034638   |\n",
       "| MetodoChoking | 6.24437344393186   | 4.99029720618149    | 7.8200056543709     | 515.106380768821   | 146.980100399245    | 2489.91948693309   |\n",
       "| MetodoPhysical_Injury | 3.19120300725477   | 1.8636300056161     | 4.79913864224882    | 24.3176641799928   | 6.44709734584217    | 121.405798642365   |\n",
       "| Occupazionebusiness/service | 2.58019502138277   | 1.24780581863546    | 3.90534355898772    | 13.1997121347728   | 3.4826929078561     | 49.6671405738762   |\n",
       "| Occupazionefarming | 2.18457177449727   | 1.44265760686533    | 3.02356939158733    | 8.88684216597926   | 4.23192768551093    | 20.5645638190199   |\n",
       "| Occupazionehousehold | 1.01922374277716   | 0.195189996621145   | 1.92116941106818    | 2.77104288681159   | 1.21554191340778    | 6.82893963934512   |\n",
       "| Occupazioneprofessional | 3.7808224452708    | 2.70781525872139    | 4.92374040760546    | 43.8520928548887   | 14.9964762782398    | 137.516018376565   |\n",
       "| Occupazionestudent | 2.29354828450834   | 1.09135347237745    | 3.4737046531923     | 9.91003900748618   | 2.97830239586045    | 32.2560187324643   |\n",
       "| Occupazioneunemployed | 1.91482721150617   | 0.56372586241774    | 3.17018930014994    | 6.78576619337598   | 1.75720743173861    | 23.8119915433794   |\n",
       "| Educazioneprimary | -0.690922723227812 | -1.02138838545232   | -0.366457594176129  | 0.501113466636439  | 0.360094642787125   | 0.693185530962838  |\n",
       "| EducazioneSecondary | -2.28212413736555  | -2.63125416432262   | -1.94253456778228   | 0.102067171597953  | 0.0719881206664273  | 0.143340183566207  |\n",
       "| Educazioneunknown | -1.91694028288117  | -3.10526569392251   | -0.788617475818317  | 0.14705622492015   | 0.0448126105391204  | 0.454472680619886  |\n",
       "\n"
      ],
      "text/plain": [
       "                                               2.5 %              \n",
       "                            Parametri          IC lower           \n",
       "(Intercept)                 -4.21746661502228  -5.95363795136122  \n",
       "Età                         0.0165273954875841 0.00949374586595065\n",
       "Sessofemale                 -0.269341814397309 -0.481581387439387 \n",
       "MetodoPoisoning             2.50828955826753   1.40885091360284   \n",
       "MetodoChoking               6.24437344393186   4.99029720618149   \n",
       "MetodoPhysical_Injury       3.19120300725477   1.8636300056161    \n",
       "Occupazionebusiness/service 2.58019502138277   1.24780581863546   \n",
       "Occupazionefarming          2.18457177449727   1.44265760686533   \n",
       "Occupazionehousehold        1.01922374277716   0.195189996621145  \n",
       "Occupazioneprofessional     3.7808224452708    2.70781525872139   \n",
       "Occupazionestudent          2.29354828450834   1.09135347237745   \n",
       "Occupazioneunemployed       1.91482721150617   0.56372586241774   \n",
       "Educazioneprimary           -0.690922723227812 -1.02138838545232  \n",
       "EducazioneSecondary         -2.28212413736555  -2.63125416432262  \n",
       "Educazioneunknown           -1.91694028288117  -3.10526569392251  \n",
       "                            97.5 %                                \n",
       "                            IC upper            Exp(Parametri)    \n",
       "(Intercept)                 -2.74009382172736   0.0147359290381804\n",
       "Età                         0.0235771753520945  1.01666472843049  \n",
       "Sessofemale                 -0.0577648495342755 0.76388210511686  \n",
       "MetodoPoisoning             3.97639703560277    12.2839011840806  \n",
       "MetodoChoking               7.8200056543709     515.106380768821  \n",
       "MetodoPhysical_Injury       4.79913864224882    24.3176641799928  \n",
       "Occupazionebusiness/service 3.90534355898772    13.1997121347728  \n",
       "Occupazionefarming          3.02356939158733    8.88684216597926  \n",
       "Occupazionehousehold        1.92116941106818    2.77104288681159  \n",
       "Occupazioneprofessional     4.92374040760546    43.8520928548887  \n",
       "Occupazionestudent          3.4737046531923     9.91003900748618  \n",
       "Occupazioneunemployed       3.17018930014994    6.78576619337598  \n",
       "Educazioneprimary           -0.366457594176129  0.501113466636439 \n",
       "EducazioneSecondary         -1.94253456778228   0.102067171597953 \n",
       "Educazioneunknown           -0.788617475818317  0.14705622492015  \n",
       "                            2.5 %               97.5 %            \n",
       "                            IC lower            IC upper          \n",
       "(Intercept)                 0.00259637782020165 0.0645642890758689\n",
       "Età                         1.00953895442416    1.02385731424636  \n",
       "Sessofemale                 0.617805628837441   0.943871873253376 \n",
       "MetodoPoisoning             4.09125150054633    53.3245612034638  \n",
       "MetodoChoking               146.980100399245    2489.91948693309  \n",
       "MetodoPhysical_Injury       6.44709734584217    121.405798642365  \n",
       "Occupazionebusiness/service 3.4826929078561     49.6671405738762  \n",
       "Occupazionefarming          4.23192768551093    20.5645638190199  \n",
       "Occupazionehousehold        1.21554191340778    6.82893963934512  \n",
       "Occupazioneprofessional     14.9964762782398    137.516018376565  \n",
       "Occupazionestudent          2.97830239586045    32.2560187324643  \n",
       "Occupazioneunemployed       1.75720743173861    23.8119915433794  \n",
       "Educazioneprimary           0.360094642787125   0.693185530962838 \n",
       "EducazioneSecondary         0.0719881206664273  0.143340183566207 \n",
       "Educazioneunknown           0.0448126105391204  0.454472680619886 "
      ]
     },
     "metadata": {},
     "output_type": "display_data"
    }
   ],
   "source": [
    "#intervalli di confidenza per i parametri B ,e per exp(B)\n",
    "ICB<-confint(modello_finale)\n",
    "ICexpB<-exp(confint(modello_finale))\n",
    "stim<-cbind(modello_finale$coefficients,ICB, exp(modello_finale$coefficients),  ICexpB)\n",
    "stim<-rbind(c(\"Parametri\",\"IC lower\",\"IC upper\",\"Exp(Parametri)\",\"IC lower\",\"IC upper\"),stim)\n",
    "stim"
   ]
  },
  {
   "cell_type": "markdown",
   "metadata": {},
   "source": [
    "Commentiamo ora l’effetto di alcuni regressori sulla probabilità di morte:\n",
    "\n",
    "\n",
    "\n",
    "-Età:      \n",
    "\n",
    "La probabilità di morire, piuttosto che sopravvivere per i pazienti che hanno un anno in più è almeno lo 0.95% e al più il 2.38% in più dell’analoga probabilità per i pazienti che hanno un anno in meno.\n",
    "\n",
    "\n",
    "\n",
    "-Sesso:\n",
    "\n",
    "La propensione a morire, per le donne che hanno tentato il suicidio è almeno 0.61 ed al più 0.94 volte l’analoga propensione per gli uomini.\n",
    "\n",
    "\n",
    "\n",
    "-Metodo:\n",
    "\n",
    "La probabilità di morire, piuttosto che sopravvivere per i pazienti che hanno tentato il suicidio tramite un metodo di soffocamento è più di 500 volte superiore all’analoga probabilità per i pazienti che hanno utilizzato altri metodi.\n",
    "\n",
    "\n",
    "La propensione a morire, per coloro che hanno tentato il suicidio tramite lesioni fisiche è circa il doppio più elevata (exp(3.191-2.508)) dell’analoga propensione per coloro che hanno tentato il suicidio tramite metodi legati all’avvelenamento.\n",
    "\n",
    "\n",
    "\n",
    "-Occupazione:\n",
    "\n",
    "L’odds riferito alla morte del paziente che ha tentato il suicidio e possiede un’occupazione nel settore agricolo è il 33% inferiore dell’analogo odds per i pazienti che lavorano nel settore del business e dei servizi\n",
    "\n",
    "\n",
    "\n",
    "-Educazione:\n",
    "\n",
    "La probabilità di morire, piuttosto che sopravvivere per i pazienti che possiedono una educazione elevata (“Secondary”) è minimo 0.07 e massimo 0.14 l’analoga probabilità per i pazienti che sono analfabeti.\n"
   ]
  },
  {
   "cell_type": "markdown",
   "metadata": {},
   "source": [
    "#### USO DEL MODELLO: "
   ]
  },
  {
   "cell_type": "markdown",
   "metadata": {},
   "source": [
    "Utilizziamo ora il nostro modello con 5 profili di unità per stimarne la probabilità di morte. Di seguito, per ogni probabilità stimata appare il suo Intervallo di Confidenza costruito attraverso l’utilizzo della funzione \"funzione_IC_Pigreco\"."
   ]
  },
  {
   "cell_type": "code",
   "execution_count": 44,
   "metadata": {},
   "outputs": [],
   "source": [
    "funzione_IC_Pigreco<-function(x) {\n",
    "  se<-x$se.fit\n",
    "  x<-x$fit\n",
    "  #se<-as.numeric(se)\n",
    "  #x<-as.numeric(x)\n",
    "  low=x-(1.96*se)\n",
    "  upp=x+(1.96*se)\n",
    "  ic=c(low,upp)\n",
    "  return(ic)\n",
    "}"
   ]
  },
  {
   "cell_type": "markdown",
   "metadata": {},
   "source": [
    "Primo profilo:\n",
    "“Età=20, Sesso=”female”, Metodo=\"Poisoning\", Occupazione = \"student\", Educazione=\"primary\"\n",
    "\n"
   ]
  },
  {
   "cell_type": "code",
   "execution_count": 45,
   "metadata": {},
   "outputs": [
    {
     "data": {
      "text/html": [
       "<strong>1:</strong> 0.488665592059299"
      ],
      "text/latex": [
       "\\textbf{1:} 0.488665592059299"
      ],
      "text/markdown": [
       "**1:** 0.488665592059299"
      ],
      "text/plain": [
       "        1 \n",
       "0.4886656 "
      ]
     },
     "metadata": {},
     "output_type": "display_data"
    },
    {
     "data": {
      "text/html": [
       "<dl class=dl-horizontal>\n",
       "\t<dt>1</dt>\n",
       "\t\t<dd>0.265990047965883</dd>\n",
       "\t<dt>1</dt>\n",
       "\t\t<dd>0.711341136152716</dd>\n",
       "</dl>\n"
      ],
      "text/latex": [
       "\\begin{description*}\n",
       "\\item[1] 0.265990047965883\n",
       "\\item[1] 0.711341136152716\n",
       "\\end{description*}\n"
      ],
      "text/markdown": [
       "1\n",
       ":   0.2659900479658831\n",
       ":   0.711341136152716\n",
       "\n"
      ],
      "text/plain": [
       "        1         1 \n",
       "0.2659900 0.7113411 "
      ]
     },
     "metadata": {},
     "output_type": "display_data"
    }
   ],
   "source": [
    "p1<-predict.glm(modello_finale,type= \"response\",newdata = data.frame(Età=20,Sesso=\"female\",Metodo=\"Poisoning\", Occupazione = \"student\", Educazione=\"primary\"),se.fit=T)\n",
    "p1$fit\n",
    "funzione_IC_Pigreco(p1)"
   ]
  },
  {
   "cell_type": "markdown",
   "metadata": {},
   "source": [
    "Secondo profilo:\n",
    "(creato modificando la variabile sesso rispetto al primo)\n",
    "( Età=20 ,Sesso=\"male\", Metodo=\"Poisoning\", Occupazione = \"student\", Educazione=\"primary\" ) \n"
   ]
  },
  {
   "cell_type": "code",
   "execution_count": 46,
   "metadata": {},
   "outputs": [
    {
     "data": {
      "text/html": [
       "<strong>1:</strong> 0.555766129013267"
      ],
      "text/latex": [
       "\\textbf{1:} 0.555766129013267"
      ],
      "text/markdown": [
       "**1:** 0.555766129013267"
      ],
      "text/plain": [
       "        1 \n",
       "0.5557661 "
      ]
     },
     "metadata": {},
     "output_type": "display_data"
    },
    {
     "data": {
      "text/html": [
       "<dl class=dl-horizontal>\n",
       "\t<dt>1</dt>\n",
       "\t\t<dd>0.336419090054886</dd>\n",
       "\t<dt>1</dt>\n",
       "\t\t<dd>0.775113167971648</dd>\n",
       "</dl>\n"
      ],
      "text/latex": [
       "\\begin{description*}\n",
       "\\item[1] 0.336419090054886\n",
       "\\item[1] 0.775113167971648\n",
       "\\end{description*}\n"
      ],
      "text/markdown": [
       "1\n",
       ":   0.3364190900548861\n",
       ":   0.775113167971648\n",
       "\n"
      ],
      "text/plain": [
       "        1         1 \n",
       "0.3364191 0.7751132 "
      ]
     },
     "metadata": {},
     "output_type": "display_data"
    }
   ],
   "source": [
    "p2<-predict.glm(modello_finale,type= \"response\",newdata = data.frame(Età=20,Sesso=\"male\",Metodo=\"Poisoning\", Occupazione = \"student\", Educazione=\"primary\"),se.fit=T)\n",
    "p2$fit\n",
    "funzione_IC_Pigreco(p2)"
   ]
  },
  {
   "cell_type": "markdown",
   "metadata": {},
   "source": [
    "Notiamo,  che a parità di condizioni la probabilità di morire è maggiore per un uomo rispetto ad una donna. "
   ]
  },
  {
   "cell_type": "markdown",
   "metadata": {},
   "source": [
    "Terzo profilo:\n",
    " ( Età=20, Sesso=\"female\", Metodo=\"Choking\", Occupazione = \"household\", Educazione=\"iliterate\" )\n"
   ]
  },
  {
   "cell_type": "code",
   "execution_count": 47,
   "metadata": {},
   "outputs": [
    {
     "data": {
      "text/html": [
       "<strong>1:</strong> 0.957194362983547"
      ],
      "text/latex": [
       "\\textbf{1:} 0.957194362983547"
      ],
      "text/markdown": [
       "**1:** 0.957194362983547"
      ],
      "text/plain": [
       "        1 \n",
       "0.9571944 "
      ]
     },
     "metadata": {},
     "output_type": "display_data"
    },
    {
     "data": {
      "text/html": [
       "<dl class=dl-horizontal>\n",
       "\t<dt>1</dt>\n",
       "\t\t<dd>0.924313410888703</dd>\n",
       "\t<dt>1</dt>\n",
       "\t\t<dd>0.990075315078391</dd>\n",
       "</dl>\n"
      ],
      "text/latex": [
       "\\begin{description*}\n",
       "\\item[1] 0.924313410888703\n",
       "\\item[1] 0.990075315078391\n",
       "\\end{description*}\n"
      ],
      "text/markdown": [
       "1\n",
       ":   0.9243134108887031\n",
       ":   0.990075315078391\n",
       "\n"
      ],
      "text/plain": [
       "        1         1 \n",
       "0.9243134 0.9900753 "
      ]
     },
     "metadata": {},
     "output_type": "display_data"
    }
   ],
   "source": [
    "p3<-predict.glm(modello_finale,type= \"response\",newdata = data.frame(Età=20,Sesso=\"female\",Metodo=\"Choking\", Occupazione = \"household\", Educazione=\"iliterate\"),se.fit=T)\n",
    "p3$fit\n",
    "funzione_IC_Pigreco(p3)"
   ]
  },
  {
   "cell_type": "markdown",
   "metadata": {},
   "source": [
    "Quarto profilo:\n",
    "( Età=20, Sesso=\"female\", Metodo=\"Physical_Injury\", Occupazione = \"household\", Educazione=\"iliterate\" )\n",
    "\n"
   ]
  },
  {
   "cell_type": "code",
   "execution_count": 48,
   "metadata": {},
   "outputs": [
    {
     "data": {
      "text/html": [
       "<strong>1:</strong> 0.513538247673287"
      ],
      "text/latex": [
       "\\textbf{1:} 0.513538247673287"
      ],
      "text/markdown": [
       "**1:** 0.513538247673287"
      ],
      "text/plain": [
       "        1 \n",
       "0.5135382 "
      ]
     },
     "metadata": {},
     "output_type": "display_data"
    },
    {
     "data": {
      "text/html": [
       "<dl class=dl-horizontal>\n",
       "\t<dt>1</dt>\n",
       "\t\t<dd>0.291714962772183</dd>\n",
       "\t<dt>1</dt>\n",
       "\t\t<dd>0.73536153257439</dd>\n",
       "</dl>\n"
      ],
      "text/latex": [
       "\\begin{description*}\n",
       "\\item[1] 0.291714962772183\n",
       "\\item[1] 0.73536153257439\n",
       "\\end{description*}\n"
      ],
      "text/markdown": [
       "1\n",
       ":   0.2917149627721831\n",
       ":   0.73536153257439\n",
       "\n"
      ],
      "text/plain": [
       "        1         1 \n",
       "0.2917150 0.7353615 "
      ]
     },
     "metadata": {},
     "output_type": "display_data"
    }
   ],
   "source": [
    "p4<-predict.glm(modello_finale,type= \"response\",newdata = data.frame(Età=20,Sesso=\"female\",Metodo=\"Physical_Injury\", Occupazione = \"household\", Educazione=\"iliterate\"),se.fit=T)\n",
    "p4$fit\n",
    "funzione_IC_Pigreco(p4)"
   ]
  },
  {
   "cell_type": "markdown",
   "metadata": {},
   "source": [
    "Quinto profilo:\n",
    "( Età=20, Sesso=\"female\", Metodo=\"Poisoning\", Occupazione = \"household\", Educazione=\"iliterate\")\n",
    "\n"
   ]
  },
  {
   "cell_type": "code",
   "execution_count": 49,
   "metadata": {
    "scrolled": false
   },
   "outputs": [
    {
     "data": {
      "text/html": [
       "<strong>1:</strong> 0.34779465642061"
      ],
      "text/latex": [
       "\\textbf{1:} 0.34779465642061"
      ],
      "text/markdown": [
       "**1:** 0.34779465642061"
      ],
      "text/plain": [
       "        1 \n",
       "0.3477947 "
      ]
     },
     "metadata": {},
     "output_type": "display_data"
    },
    {
     "data": {
      "text/html": [
       "<dl class=dl-horizontal>\n",
       "\t<dt>1</dt>\n",
       "\t\t<dd>0.222912183389652</dd>\n",
       "\t<dt>1</dt>\n",
       "\t\t<dd>0.472677129451567</dd>\n",
       "</dl>\n"
      ],
      "text/latex": [
       "\\begin{description*}\n",
       "\\item[1] 0.222912183389652\n",
       "\\item[1] 0.472677129451567\n",
       "\\end{description*}\n"
      ],
      "text/markdown": [
       "1\n",
       ":   0.2229121833896521\n",
       ":   0.472677129451567\n",
       "\n"
      ],
      "text/plain": [
       "        1         1 \n",
       "0.2229122 0.4726771 "
      ]
     },
     "metadata": {},
     "output_type": "display_data"
    }
   ],
   "source": [
    "p5<-predict.glm(modello_finale,type= \"response\",newdata = data.frame(Età=20,Sesso=\"female\",Metodo=\"Poisoning\", Occupazione = \"household\", Educazione=\"iliterate\"),se.fit=T)\n",
    "p5$fit\n",
    "funzione_IC_Pigreco(p5)\n"
   ]
  },
  {
   "cell_type": "markdown",
   "metadata": {},
   "source": [
    "Notiamo che a parità di condizioni, la probabilità di morire con il metodo “Choking” è più elevata rispetto all’analoga probabilità per il metodo “Physical Injury” e per il metodo “ Poinsoning”, nonostante quest’ultima sia la pratica più diffusa per i casi di tentato suicidio."
   ]
  },
  {
   "cell_type": "markdown",
   "metadata": {},
   "source": [
    "********************************************************************"
   ]
  },
  {
   "cell_type": "markdown",
   "metadata": {},
   "source": [
    "####################################################################"
   ]
  },
  {
   "cell_type": "markdown",
   "metadata": {},
   "source": [
    "********************************************************************"
   ]
  },
  {
   "cell_type": "markdown",
   "metadata": {},
   "source": [
    "####################################################################"
   ]
  }
 ],
 "metadata": {
  "kernelspec": {
   "display_name": "R",
   "language": "R",
   "name": "ir"
  },
  "language_info": {
   "codemirror_mode": "r",
   "file_extension": ".r",
   "mimetype": "text/x-r-source",
   "name": "R",
   "pygments_lexer": "r",
   "version": "3.6.1"
  }
 },
 "nbformat": 4,
 "nbformat_minor": 4
}
